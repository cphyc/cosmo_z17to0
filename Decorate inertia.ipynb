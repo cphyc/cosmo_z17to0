{
 "cells": [
  {
   "cell_type": "markdown",
   "metadata": {},
   "source": [
    "Decorate the inertia_data file"
   ]
  },
  {
   "cell_type": "code",
   "execution_count": 10,
   "metadata": {
    "collapsed": true
   },
   "outputs": [],
   "source": [
    "import pandas as pd\n",
    "import tools.tools as t\n",
    "from tqdm import tqdm "
   ]
  },
  {
   "cell_type": "code",
   "execution_count": 1,
   "metadata": {
    "collapsed": true
   },
   "outputs": [],
   "source": [
    "halo_list = pd.read_csv('lists/list_halo.dat',\n",
    "                        delim_whitespace=True,\n",
    "                        skiprows=1,\n",
    "                        names=['id', 'level', 'mass', 'x', 'y', 'z', 'r']).set_index('id')"
   ]
  },
  {
   "cell_type": "code",
   "execution_count": 4,
   "metadata": {
    "collapsed": false
   },
   "outputs": [],
   "source": [
    "unit, ncol, nrow = t.io.read_list_header('lists/list_kingal_00782.dat')\n",
    "gal_dynamics = pd.DataFrame(t.io.read_list_data_reals(unit, ncol, nrow),\n",
    "                            columns=['id', 'vtheta', 'dvx', 'dvy', 'dvz', 'mass', 'x', 'y', 'z']).set_index('id')\n",
    "\n",
    "gd = gal_dynamics\n",
    "gal_dynamics['sigma_over_vtheta'] = 1./3*np.sqrt((gd.dvx**2 + gd.dvy**2 + gd.dvz**2)) / np.abs(gd.vtheta)\n",
    "del gd"
   ]
  },
  {
   "cell_type": "code",
   "execution_count": 5,
   "metadata": {
    "collapsed": true
   },
   "outputs": [],
   "source": [
    "association = pd.read_csv('lists/associated_halogal_782.dat', delim_whitespace=True, skiprows=1,\n",
    "                          names=['halo_id', 'level', 'halo_mass', 'gal_id', 'gal_mass']).set_index('halo_id')"
   ]
  },
  {
   "cell_type": "code",
   "execution_count": 6,
   "metadata": {
    "collapsed": false
   },
   "outputs": [
    {
     "name": "stdout",
     "output_type": "stream",
     "text": [
      "Found 280219 halo.\n"
     ]
    }
   ],
   "source": [
    "inertia_data = pd.read_csv('data/halo_kin.00002.1e10_m.dat', delim_whitespace=True, dtype=np.float,\n",
    "                           engine='c', index_col=0)\n",
    "\n",
    "print('Found {} halo.'.format(inertia_data['mass'].size))"
   ]
  },
  {
   "cell_type": "code",
   "execution_count": 7,
   "metadata": {
    "collapsed": true
   },
   "outputs": [],
   "source": [
    "def get_sov():\n",
    "    halo_with_galaxy = set(association.index)\n",
    "    inertia_data_halos = set(inertia_data.index)\n",
    "    common = halo_with_galaxy.intersection(inertia_data_halos)\n",
    "    gal_ids = association.loc[common, 'gal_id'].as_matrix()\n",
    "    sov = gal_dynamics.loc[gal_ids, 'sigma_over_vtheta'].as_matrix()\n",
    "    return common, sov\n",
    "ids, sov = get_sov()\n",
    "\n",
    "inertia_data['host_gal'] = False\n",
    "inertia_data.loc[ids, 'sigma_over_vtheta'] = sov\n",
    "inertia_data.loc[ids, 'host_gal'] = True"
   ]
  },
  {
   "cell_type": "code",
   "execution_count": 8,
   "metadata": {
    "collapsed": true
   },
   "outputs": [],
   "source": [
    "%%cython\n",
    "cimport numpy as np\n",
    "import numpy as np\n",
    "cimport cython\n",
    "\n",
    "@cython.boundscheck(False)\n",
    "cdef np.ndarray[double, ndim=2] cy_compute_tensor(np.ndarray[double, ndim=1] xx, np.ndarray[double, ndim=1] xy, \n",
    "                   np.ndarray[double, ndim=1] xz, np.ndarray[double, ndim=1] yy,\n",
    "                   np.ndarray[double, ndim=1] yz, np.ndarray[double, ndim=1] zz, tqdm):\n",
    "    cdef int i, j\n",
    "    cdef np.ndarray[double, ndim=2] I\n",
    "    cdef np.ndarray[double, ndim=2] eva = np.zeros((len(xx), 3))\n",
    "    cdef np.ndarray[double, ndim=1] tmp\n",
    "\n",
    "    for i in tqdm(range(len(xx))):\n",
    "        I = np.zeros((3, 3))\n",
    "        I[0,0] = xx[i]\n",
    "        I[0,1] = xy[i]\n",
    "        I[1,0] = xy[i]\n",
    "        I[0,2] = xz[i]\n",
    "        I[2,0] = xz[i]\n",
    "        I[1,1] = yy[i]\n",
    "        I[1,2] = yz[i]\n",
    "        I[2,1] = yz[i]\n",
    "        I[2,2] = zz[i]\n",
    "\n",
    "        tmp = np.linalg.eigvalsh(I)\n",
    "        for j in range(3):\n",
    "            eva[i, j] = tmp[j]\n",
    "    return eva\n",
    "\n",
    "def compute_tensor(d, tqdm=None):\n",
    "    cdef np.ndarray[double, ndim=1] xx, xy, xz, yy, yz, zz \n",
    "    xx, xy, xz, yy, yz, zz = np.array([d['xx'], d['xy'], d['xz'], d['yy'], d['yz'], d['zz']], dtype=np.float)\n",
    "    if tqdm == None:\n",
    "        tqdm = lambda i: i\n",
    "    return cy_compute_tensor(xx, xy, xz, yy, yz, zz, tqdm)                "
   ]
  },
  {
   "cell_type": "code",
   "execution_count": 11,
   "metadata": {
    "collapsed": false
   },
   "outputs": [
    {
     "name": "stderr",
     "output_type": "stream",
     "text": [
      "100%|██████████| 280219/280219 [00:13<00:00, 20112.62it/s]\n"
     ]
    }
   ],
   "source": [
    "eva = compute_tensor(inertia_data, tqdm=tqdm)"
   ]
  },
  {
   "cell_type": "code",
   "execution_count": 12,
   "metadata": {
    "collapsed": true
   },
   "outputs": [],
   "source": [
    "def get_sov():\n",
    "    halo_with_galaxy = set(association.index)\n",
    "    inertia_data_halos = set(inertia_data.index)\n",
    "    common = halo_with_galaxy.intersection(inertia_data_halos)\n",
    "    gal_ids = association.loc[common, 'gal_id'].as_matrix()\n",
    "    sov = gal_dynamics.loc[gal_ids, 'sigma_over_vtheta'].as_matrix()\n",
    "    return common, sov\n",
    "ids, sov = get_sov()\n",
    "\n",
    "inertia_data['host_gal'] = False\n",
    "inertia_data.loc[ids, 'sigma_over_vtheta'] = sov\n",
    "inertia_data.loc[ids, 'host_gal'] = True"
   ]
  },
  {
   "cell_type": "code",
   "execution_count": 13,
   "metadata": {
    "collapsed": true
   },
   "outputs": [],
   "source": [
    "inertia_data['l0'] = np.sqrt(eva[:, 0])\n",
    "inertia_data['l1'] = np.sqrt(eva[:, 1])\n",
    "inertia_data['l2'] = np.sqrt(eva[:, 2])"
   ]
  },
  {
   "cell_type": "code",
   "execution_count": 14,
   "metadata": {
    "collapsed": true
   },
   "outputs": [],
   "source": [
    "inertia_data[['log(mass)', 'log(l0)', 'log(l1)', 'log(l2)', 'log(sigma_over_vtheta)']] = (\n",
    "    np.log10(inertia_data[['mass', 'l0', 'l1', 'l2', 'sigma_over_vtheta']])\n",
    "    )"
   ]
  },
  {
   "cell_type": "code",
   "execution_count": 17,
   "metadata": {
    "collapsed": false
   },
   "outputs": [
    {
     "name": "stderr",
     "output_type": "stream",
     "text": [
      "321713it [00:49, 6530.94it/s]\n"
     ]
    }
   ],
   "source": [
    "halos = t.read_brick('/data52/Horizon-AGN/TREE_DM_celldx2kpc_SC0.9r/tree_bricks782', low_mem=['nparts', 'members', 'idh', 'hlevel'])\n",
    "l = list(tqdm(halos.it))\n",
    "halos_props = pd.DataFrame([{'hlevel': h['hlevel'], 'idh':h['idh'][0], 'nparts': h['nparts'][0]} for h in l]).set_index('idh')\n",
    "halo_members = [{'idh': h['idh'][0], 'members': h['members']} for h in l]\n",
    "del l"
   ]
  },
  {
   "cell_type": "code",
   "execution_count": 18,
   "metadata": {
    "collapsed": false
   },
   "outputs": [],
   "source": [
    "to_set = set(inertia_data.index)\n",
    "from_set = set(halos_props.index)\n",
    "\n",
    "inter = list(to_set.intersection(from_set))\n",
    "inertia_data.loc[inter, 'hlevel'] = halos_props.loc[inter, 'hlevel']"
   ]
  },
  {
   "cell_type": "code",
   "execution_count": 19,
   "metadata": {
    "collapsed": true
   },
   "outputs": [],
   "source": [
    "inertia_data['prolateness'] = inertia_data.eval('l2/sqrt(l1*l0)')\n",
    "inertia_data['log(prolateness)'] = np.log10(inertia_data['prolateness'])\n",
    "\n",
    "inertia_data['oblateness'] = inertia_data.eval('sqrt(l2*l1)/l0')\n",
    "inertia_data['log(oblateness)'] = np.log10(inertia_data['oblateness'])\n",
    "\n",
    "inertia_data['prod_li'] = inertia_data.eval('l2*l1*l0')\n",
    "inertia_data['log(prod_li)'] = np.log10(inertia_data['prod_li'])"
   ]
  },
  {
   "cell_type": "code",
   "execution_count": 20,
   "metadata": {
    "collapsed": true
   },
   "outputs": [],
   "source": [
    "bins = [0, 0.5, 1.5, np.infty]\n",
    "labels = ['elliptical', 'intermediate', 'spiral']\n",
    "inertia_data['vtheta_over_sigma'] = 1./inertia_data['sigma_over_vtheta']\n",
    "inertia_data['galaxy_type'] = pd.cut(inertia_data['vtheta_over_sigma'], bins, labels=labels)"
   ]
  },
  {
   "cell_type": "code",
   "execution_count": 22,
   "metadata": {
    "collapsed": false
   },
   "outputs": [
    {
     "data": {
      "text/plain": [
       "Index([u'mass', u'x', u'y', u'z', u'xx', u'xy', u'xz', u'yy', u'yz', u'zz',\n",
       "       u'host_gal', u'sigma_over_vtheta', u'l0', u'l1', u'l2', u'log(mass)',\n",
       "       u'log(l0)', u'log(l1)', u'log(l2)', u'log(sigma_over_vtheta)',\n",
       "       u'hlevel', u'prolateness', u'log(prolateness)', u'oblateness',\n",
       "       u'log(oblateness)', u'prod_li', u'log(prod_li)', u'vtheta_over_sigma',\n",
       "       u'galaxy_type'],\n",
       "      dtype='object')"
      ]
     },
     "execution_count": 22,
     "metadata": {},
     "output_type": "execute_result"
    }
   ],
   "source": [
    "inertia_data.columns"
   ]
  },
  {
   "cell_type": "markdown",
   "metadata": {},
   "source": [
    "Remove some columns that cannot be exported to hdf format"
   ]
  },
  {
   "cell_type": "code",
   "execution_count": 24,
   "metadata": {
    "collapsed": false
   },
   "outputs": [],
   "source": [
    "inertia_data_cleaned = inertia_data.drop('galaxy_type', 1)"
   ]
  },
  {
   "cell_type": "code",
   "execution_count": 28,
   "metadata": {
    "collapsed": false
   },
   "outputs": [],
   "source": [
    "inertia_data_cleaned.to_hdf('data/halo_kin.00002.1e10_m.hdf', 'inertia_data')\n",
    "inertia_data.to_csv('data/halo_kin.00002.1e10_m_completed.csv', delim_whitespace=True)"
   ]
  },
  {
   "cell_type": "code",
   "execution_count": 30,
   "metadata": {
    "collapsed": false
   },
   "outputs": [
    {
     "name": "stdout",
     "output_type": "stream",
     "text": [
      "-rw-rw-r-- 1 cadiou cadiou 140 Apr 13 17:21 data/halo_kin.00002.1e10_m_1e12.dat.tmp\r\n",
      "-rw-rw-r-- 1 cadiou cadiou 98M May 18 17:37 data/halo_kin.00002.1e10_m_completed.csv\r\n",
      "-rw-rw-r-- 1 cadiou cadiou 41M May 12 11:02 data/halo_kin.00002.1e10_m.dat\r\n",
      "-rw-rw-r-- 1 cadiou cadiou 61M May 18 17:37 data/halo_kin.00002.1e10_m.hdf\r\n"
     ]
    }
   ],
   "source": [
    "!ls -hl data/halo_kin.00002.1e10_m*"
   ]
  },
  {
   "cell_type": "code",
   "execution_count": null,
   "metadata": {
    "collapsed": true
   },
   "outputs": [],
   "source": []
  }
 ],
 "metadata": {
  "kernelspec": {
   "display_name": "Python 2",
   "language": "python",
   "name": "python2"
  },
  "language_info": {
   "codemirror_mode": {
    "name": "ipython",
    "version": 2
   },
   "file_extension": ".py",
   "mimetype": "text/x-python",
   "name": "python",
   "nbconvert_exporter": "python",
   "pygments_lexer": "ipython2",
   "version": "2.7.11"
  },
  "toc": {
   "toc_cell": false,
   "toc_number_sections": true,
   "toc_threshold": 6,
   "toc_window_display": false
  }
 },
 "nbformat": 4,
 "nbformat_minor": 0
}
