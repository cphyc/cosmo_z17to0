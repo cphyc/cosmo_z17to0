version https://git-lfs.github.com/spec/v1
oid sha256:ab6529ed65479a7cd400e375157f45910af50d95a6815f4a2bdbb414f09678ac
size 848808
