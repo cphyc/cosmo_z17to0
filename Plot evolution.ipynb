version https://git-lfs.github.com/spec/v1
oid sha256:8ab6b7ea5e6c8a84143f4385242fc00fe59b258a52fca782fc6ccbd2bb392a22
size 90145
