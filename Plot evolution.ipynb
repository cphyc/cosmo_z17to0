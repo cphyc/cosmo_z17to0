version https://git-lfs.github.com/spec/v1
oid sha256:aa2d7d4014a06f18f3bf492239d412f8b37c276459813302f5659603aceb8651
size 1471759
