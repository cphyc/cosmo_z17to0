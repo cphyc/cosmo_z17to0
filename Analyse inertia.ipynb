version https://git-lfs.github.com/spec/v1
oid sha256:cb8522e7c2cbcbd4fbf5fa953522859a5f9737a75e668528199a597004a43fbb
size 3146351
