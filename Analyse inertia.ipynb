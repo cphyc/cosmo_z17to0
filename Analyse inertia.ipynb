version https://git-lfs.github.com/spec/v1
oid sha256:796f050d531756f4ae1c3a1608b91f85fae0c9204da69ada47e6a1f4829bab59
size 3007241
