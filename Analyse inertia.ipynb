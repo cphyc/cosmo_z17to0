{
 "cells": [
  {
   "cell_type": "markdown",
   "metadata": {
    "toc": "true"
   },
   "source": [
    "# Table of Contents\n",
    " <p><div class=\"lev1\"><a href=\"#Getting-data\"><span class=\"toc-item-num\">1&nbsp;&nbsp;</span>Getting data</a></div><div class=\"lev1\"><a href=\"#Read-the-inertia-tensor-list\"><span class=\"toc-item-num\">2&nbsp;&nbsp;</span>Read the inertia tensor list</a></div><div class=\"lev1\"><a href=\"#Populate-the-sigma-of-each-halo-found\"><span class=\"toc-item-num\">3&nbsp;&nbsp;</span>Populate the sigma of each halo found</a></div><div class=\"lev1\"><a href=\"#Compute-eigenvalues\"><span class=\"toc-item-num\">4&nbsp;&nbsp;</span>Compute eigenvalues</a></div><div class=\"lev2\"><a href=\"#For-the-halos,-get-their-level-from-the-brick\"><span class=\"toc-item-num\">4.1&nbsp;&nbsp;</span>For the halos, get their level from the brick</a></div><div class=\"lev2\"><a href=\"#Calcul-des-paramètres-de-l'ellipse\"><span class=\"toc-item-num\">4.2&nbsp;&nbsp;</span>Calcul des paramètres de l'ellipse</a></div><div class=\"lev1\"><a href=\"#Tracé-des-valeurs-propres-$\\lambda_i$-en-fonction-de-la-masse-et-de-$\\sigma/v_\\theta$\"><span class=\"toc-item-num\">5&nbsp;&nbsp;</span>Tracé des valeurs propres <span style=\"color: inherit;\" class=\"MathJax_Preview\"></span><span style=\"\" id=\"MathJax-Element-2-Frame\" class=\"MathJax\"><nobr><span style=\"width: 0.933em; display: inline-block;\" role=\"math\" id=\"MathJax-Span-6\" class=\"math\"><span style=\"display: inline-block; position: relative; width: 0.716em; height: 0px; font-size: 129%;\"><span style=\"position: absolute; clip: rect(1.707em, 1000em, 2.722em, -1000em); top: -2.475em; left: 0em;\"><span id=\"MathJax-Span-7\" class=\"mrow\"><span id=\"MathJax-Span-8\" class=\"msubsup\"><span style=\"display: inline-block; position: relative; width: 0.73em; height: 0px;\"><span style=\"position: absolute; clip: rect(3.228em, 1000em, 4.101em, -1000em); top: -3.995em; left: 0em;\"><span style=\"font-family: STIXMathJax_Main; font-style: italic;\" id=\"MathJax-Span-9\" class=\"mi\">λ</span><span style=\"display: inline-block; width: 0px; height: 3.995em;\"></span></span><span style=\"position: absolute; top: -3.845em; left: 0.458em;\"><span style=\"font-size: 70.7%; font-family: STIXMathJax_Main; font-style: italic;\" id=\"MathJax-Span-10\" class=\"mi\">i</span><span style=\"display: inline-block; width: 0px; height: 3.995em;\"></span></span></span></span></span><span style=\"display: inline-block; width: 0px; height: 2.475em;\"></span></span></span><span style=\"border-left: 0em solid; display: inline-block; overflow: hidden; width: 0px; height: 1.155em; vertical-align: -0.242em;\"></span></span></nobr></span><script id=\"MathJax-Element-2\" type=\"math/tex\">\\lambda_i</script> en fonction de la masse et de <span style=\"color: inherit;\" class=\"MathJax_Preview\"></span><span style=\"\" id=\"MathJax-Element-3-Frame\" class=\"MathJax\"><nobr><span style=\"width: 2.163em; display: inline-block;\" role=\"math\" id=\"MathJax-Span-11\" class=\"math\"><span style=\"display: inline-block; position: relative; width: 1.67em; height: 0px; font-size: 129%;\"><span style=\"position: absolute; clip: rect(1.918em, 1000em, 2.931em, -1000em); top: -2.683em; left: 0em;\"><span id=\"MathJax-Span-12\" class=\"mrow\"><span style=\"font-family: STIXMathJax_Main; font-style: italic;\" id=\"MathJax-Span-13\" class=\"mi\">σ<span style=\"display: inline-block; overflow: hidden; height: 1px; width: 0.033em;\"></span></span><span id=\"MathJax-Span-14\" class=\"texatom\"><span id=\"MathJax-Span-15\" class=\"mrow\"><span style=\"font-family: STIXMathJax_Main;\" id=\"MathJax-Span-16\" class=\"mo\">/</span></span></span><span id=\"MathJax-Span-17\" class=\"msubsup\"><span style=\"display: inline-block; position: relative; width: 0.868em; height: 0px;\"><span style=\"position: absolute; clip: rect(3.465em, 1000em, 4.103em, -1000em); top: -3.995em; left: 0em;\"><span style=\"font-family: STIXMathJax_Main; font-style: italic;\" id=\"MathJax-Span-18\" class=\"mi\">v</span><span style=\"display: inline-block; width: 0px; height: 3.995em;\"></span></span><span style=\"position: absolute; top: -3.845em; left: 0.444em;\"><span style=\"font-size: 70.7%; font-family: STIXMathJax_Main; font-style: italic;\" id=\"MathJax-Span-19\" class=\"mi\">θ<span style=\"display: inline-block; overflow: hidden; height: 1px; width: 0.01em;\"></span></span><span style=\"display: inline-block; width: 0px; height: 3.995em;\"></span></span></span></span></span><span style=\"display: inline-block; width: 0px; height: 2.683em;\"></span></span></span><span style=\"border-left: 0em solid; display: inline-block; overflow: hidden; width: 0px; height: 1.152em; vertical-align: -0.242em;\"></span></span></nobr></span><script id=\"MathJax-Element-3\" type=\"math/tex\">\\sigma/v_\\theta</script></a></div><div class=\"lev2\"><a href=\"#Tracé-avec-$\\kappa_{i,j}-=-\\frac{\\lambda_i}{\\lambda_j}$,-les-facteurs-d'asymétrie\"><span class=\"toc-item-num\">5.1&nbsp;&nbsp;</span>Tracé avec <span style=\"color: inherit;\" class=\"MathJax_Preview\"></span><span style=\"\" id=\"MathJax-Element-4-Frame\" class=\"MathJax\"><nobr><span style=\"width: 4.239em; display: inline-block;\" role=\"math\" id=\"MathJax-Span-20\" class=\"math\"><span style=\"display: inline-block; position: relative; width: 3.277em; height: 0px; font-size: 129%;\"><span style=\"position: absolute; clip: rect(1.605em, 1000em, 3.349em, -1000em); top: -2.678em; left: 0em;\"><span id=\"MathJax-Span-21\" class=\"mrow\"><span id=\"MathJax-Span-22\" class=\"msubsup\"><span style=\"display: inline-block; position: relative; width: 1.09em; height: 0px;\"><span style=\"position: absolute; clip: rect(3.47em, 1000em, 4.136em, -1000em); top: -4.017em; left: 0em;\"><span style=\"font-family: STIXMathJax_Main; font-style: italic;\" id=\"MathJax-Span-23\" class=\"mi\">κ<span style=\"display: inline-block; overflow: hidden; height: 1px; width: 0.021em;\"></span></span><span style=\"display: inline-block; width: 0px; height: 4.017em;\"></span></span><span style=\"position: absolute; top: -3.867em; left: 0.444em;\"><span id=\"MathJax-Span-24\" class=\"texatom\"><span id=\"MathJax-Span-25\" class=\"mrow\"><span style=\"font-size: 70.7%; font-family: STIXMathJax_Main; font-style: italic;\" id=\"MathJax-Span-26\" class=\"mi\">i</span><span style=\"font-size: 70.7%; font-family: STIXMathJax_Main;\" id=\"MathJax-Span-27\" class=\"mo\">,</span><span style=\"font-size: 70.7%; font-family: STIXMathJax_Main; font-style: italic;\" id=\"MathJax-Span-28\" class=\"mi\">j<span style=\"display: inline-block; overflow: hidden; height: 1px; width: 0.001em;\"></span></span></span></span><span style=\"display: inline-block; width: 0px; height: 4.017em;\"></span></span></span></span><span style=\"font-family: STIXMathJax_Main; padding-left: 0.313em;\" id=\"MathJax-Span-29\" class=\"mo\">=</span><span style=\"padding-left: 0.313em;\" id=\"MathJax-Span-30\" class=\"mfrac\"><span style=\"display: inline-block; position: relative; width: 0.636em; height: 0px; margin-right: 0.12em; margin-left: 0.12em;\"><span style=\"position: absolute; clip: rect(3.432em, 1000em, 4.234em, -1000em); top: -4.505em; left: 50%; margin-left: -0.258em;\"><span id=\"MathJax-Span-31\" class=\"msubsup\"><span style=\"display: inline-block; position: relative; width: 0.516em; height: 0px;\"><span style=\"position: absolute; clip: rect(3.432em, 1000em, 4.134em, -1000em); top: -4.017em; left: 0em;\"><span style=\"font-size: 70.7%; font-family: STIXMathJax_Main; font-style: italic;\" id=\"MathJax-Span-32\" class=\"mi\">λ</span><span style=\"display: inline-block; width: 0px; height: 4.017em;\"></span></span><span style=\"position: absolute; top: -3.911em; left: 0.324em;\"><span style=\"font-size: 50%; font-family: STIXMathJax_Main; font-style: italic;\" id=\"MathJax-Span-33\" class=\"mi\">i</span><span style=\"display: inline-block; width: 0px; height: 4.017em;\"></span></span></span></span><span style=\"display: inline-block; width: 0px; height: 4.017em;\"></span></span><span style=\"position: absolute; clip: rect(3.432em, 1000em, 4.332em, -1000em); top: -3.661em; left: 50%; margin-left: -0.258em;\"><span id=\"MathJax-Span-34\" class=\"msubsup\"><span style=\"display: inline-block; position: relative; width: 0.516em; height: 0px;\"><span style=\"position: absolute; clip: rect(3.432em, 1000em, 4.134em, -1000em); top: -4.017em; left: 0em;\"><span style=\"font-size: 70.7%; font-family: STIXMathJax_Main; font-style: italic;\" id=\"MathJax-Span-35\" class=\"mi\">λ</span><span style=\"display: inline-block; width: 0px; height: 4.017em;\"></span></span><span style=\"position: absolute; top: -3.911em; left: 0.324em;\"><span style=\"font-size: 50%; font-family: STIXMathJax_Main; font-style: italic;\" id=\"MathJax-Span-36\" class=\"mi\">j<span style=\"display: inline-block; overflow: hidden; height: 1px; width: 0em;\"></span></span><span style=\"display: inline-block; width: 0px; height: 4.017em;\"></span></span></span></span><span style=\"display: inline-block; width: 0px; height: 4.017em;\"></span></span><span style=\"position: absolute; clip: rect(0.891em, 1000em, 1.163em, -1000em); top: -1.277em; left: 0em;\"><span style=\"border-left: 0.636em solid; display: inline-block; overflow: hidden; width: 0px; height: 0.06em; vertical-align: 0em;\"></span><span style=\"display: inline-block; width: 0px; height: 1.057em;\"></span></span></span></span></span><span style=\"display: inline-block; width: 0px; height: 2.678em;\"></span></span></span><span style=\"border-left: 0em solid; display: inline-block; overflow: hidden; width: 0px; height: 2.067em; vertical-align: -0.774em;\"></span></span></nobr></span><script id=\"MathJax-Element-4\" type=\"math/tex\">\\kappa_{i,j} = \\frac{\\lambda_i}{\\lambda_j}</script>, les facteurs d'asymétrie</a></div><div class=\"lev1\"><a href=\"#Vérification-de-$\\prod_i\\lambda_i-\\propto-m$\"><span class=\"toc-item-num\">6&nbsp;&nbsp;</span>Vérification de <span style=\"color: inherit;\" class=\"MathJax_Preview\"></span><span style=\"\" id=\"MathJax-Element-5-Frame\" class=\"MathJax\"><nobr><span style=\"width: 5.471em; display: inline-block;\" role=\"math\" id=\"MathJax-Span-37\" class=\"math\"><span style=\"display: inline-block; position: relative; width: 4.234em; height: 0px; font-size: 129%;\"><span style=\"position: absolute; clip: rect(1.833em, 1000em, 3.077em, -1000em); top: -2.683em; left: 0em;\"><span id=\"MathJax-Span-38\" class=\"mrow\"><span id=\"MathJax-Span-39\" class=\"munderover\"><span style=\"display: inline-block; position: relative; width: 1.272em; height: 0px;\"><span style=\"position: absolute; clip: rect(3.145em, 1000em, 4.346em, -1000em); top: -3.995em; left: 0em;\"><span style=\"font-family: STIXMathJax_Operators; vertical-align: -0.002em;\" id=\"MathJax-Span-40\" class=\"mo\">∏</span><span style=\"display: inline-block; width: 0px; height: 3.995em;\"></span></span><span style=\"position: absolute; top: -3.699em; left: 1em;\"><span style=\"font-size: 70.7%; font-family: STIXMathJax_Main; font-style: italic;\" id=\"MathJax-Span-41\" class=\"mi\">i</span><span style=\"display: inline-block; width: 0px; height: 3.995em;\"></span></span></span></span><span style=\"padding-left: 0.188em;\" id=\"MathJax-Span-42\" class=\"msubsup\"><span style=\"display: inline-block; position: relative; width: 0.73em; height: 0px;\"><span style=\"position: absolute; clip: rect(3.228em, 1000em, 4.101em, -1000em); top: -3.995em; left: 0em;\"><span style=\"font-family: STIXMathJax_Main; font-style: italic;\" id=\"MathJax-Span-43\" class=\"mi\">λ</span><span style=\"display: inline-block; width: 0px; height: 3.995em;\"></span></span><span style=\"position: absolute; top: -3.845em; left: 0.458em;\"><span style=\"font-size: 70.7%; font-family: STIXMathJax_Main; font-style: italic;\" id=\"MathJax-Span-44\" class=\"mi\">i</span><span style=\"display: inline-block; width: 0px; height: 3.995em;\"></span></span></span></span><span style=\"font-family: STIXMathJax_Main; padding-left: 0.313em;\" id=\"MathJax-Span-45\" class=\"mo\">∝</span><span style=\"font-family: STIXMathJax_Main; font-style: italic; padding-left: 0.313em;\" id=\"MathJax-Span-46\" class=\"mi\">m</span></span><span style=\"display: inline-block; width: 0px; height: 2.683em;\"></span></span></span><span style=\"border-left: 0em solid; display: inline-block; overflow: hidden; width: 0px; height: 1.451em; vertical-align: -0.431em;\"></span></span></nobr></span><script id=\"MathJax-Element-5\" type=\"math/tex\">\\prod_i\\lambda_i \\propto m</script></a></div><div class=\"lev1\"><a href=\"#Corrélation-entre-$\\lambda_2-/-m^{1/3}$-et-$\\sigma/v_\\theta$\"><span class=\"toc-item-num\">7&nbsp;&nbsp;</span>Corrélation entre <span style=\"color: inherit;\" class=\"MathJax_Preview\"></span><span style=\"\" id=\"MathJax-Element-8-Frame\" class=\"MathJax\"><nobr><span style=\"width: 3.702em; display: inline-block;\" role=\"math\" id=\"MathJax-Span-70\" class=\"math\"><span style=\"display: inline-block; position: relative; width: 2.862em; height: 0px; font-size: 129%;\"><span style=\"position: absolute; clip: rect(1.753em, 1000em, 2.923em, -1000em); top: -2.683em; left: 0em;\"><span id=\"MathJax-Span-71\" class=\"mrow\"><span id=\"MathJax-Span-72\" class=\"msubsup\"><span style=\"display: inline-block; position: relative; width: 0.887em; height: 0px;\"><span style=\"position: absolute; clip: rect(3.228em, 1000em, 4.101em, -1000em); top: -3.995em; left: 0em;\"><span style=\"font-family: STIXMathJax_Main; font-style: italic;\" id=\"MathJax-Span-73\" class=\"mi\">λ</span><span style=\"display: inline-block; width: 0px; height: 3.995em;\"></span></span><span style=\"position: absolute; top: -3.845em; left: 0.458em;\"><span style=\"font-size: 70.7%; font-family: STIXMathJax_Main;\" id=\"MathJax-Span-74\" class=\"mn\">2</span><span style=\"display: inline-block; width: 0px; height: 3.995em;\"></span></span></span></span><span id=\"MathJax-Span-75\" class=\"texatom\"><span id=\"MathJax-Span-76\" class=\"mrow\"><span style=\"font-family: STIXMathJax_Main;\" id=\"MathJax-Span-77\" class=\"mo\">/</span></span></span><span id=\"MathJax-Span-78\" class=\"msubsup\"><span style=\"display: inline-block; position: relative; width: 1.701em; height: 0px;\"><span style=\"position: absolute; clip: rect(3.465em, 1000em, 4.094em, -1000em); top: -3.995em; left: 0em;\"><span style=\"font-family: STIXMathJax_Main; font-style: italic;\" id=\"MathJax-Span-79\" class=\"mi\">m</span><span style=\"display: inline-block; width: 0px; height: 3.995em;\"></span></span><span style=\"position: absolute; top: -4.358em; left: 0.722em;\"><span id=\"MathJax-Span-80\" class=\"texatom\"><span id=\"MathJax-Span-81\" class=\"mrow\"><span style=\"font-size: 70.7%; font-family: STIXMathJax_Main;\" id=\"MathJax-Span-82\" class=\"mn\">1</span><span id=\"MathJax-Span-83\" class=\"texatom\"><span id=\"MathJax-Span-84\" class=\"mrow\"><span style=\"font-size: 70.7%; font-family: STIXMathJax_Main;\" id=\"MathJax-Span-85\" class=\"mo\">/</span></span></span><span style=\"font-size: 70.7%; font-family: STIXMathJax_Main;\" id=\"MathJax-Span-86\" class=\"mn\">3</span></span></span><span style=\"display: inline-block; width: 0px; height: 3.995em;\"></span></span></span></span></span><span style=\"display: inline-block; width: 0px; height: 2.683em;\"></span></span></span><span style=\"border-left: 0em solid; display: inline-block; overflow: hidden; width: 0px; height: 1.355em; vertical-align: -0.232em;\"></span></span></nobr></span><script id=\"MathJax-Element-8\" type=\"math/tex\">\\lambda_2 / m^{1/3}</script> et <span style=\"color: inherit;\" class=\"MathJax_Preview\"></span><span style=\"\" id=\"MathJax-Element-9-Frame\" class=\"MathJax\"><nobr><span style=\"width: 2.163em; display: inline-block;\" role=\"math\" id=\"MathJax-Span-87\" class=\"math\"><span style=\"display: inline-block; position: relative; width: 1.67em; height: 0px; font-size: 129%;\"><span style=\"position: absolute; clip: rect(1.918em, 1000em, 2.931em, -1000em); top: -2.683em; left: 0em;\"><span id=\"MathJax-Span-88\" class=\"mrow\"><span style=\"font-family: STIXMathJax_Main; font-style: italic;\" id=\"MathJax-Span-89\" class=\"mi\">σ<span style=\"display: inline-block; overflow: hidden; height: 1px; width: 0.033em;\"></span></span><span id=\"MathJax-Span-90\" class=\"texatom\"><span id=\"MathJax-Span-91\" class=\"mrow\"><span style=\"font-family: STIXMathJax_Main;\" id=\"MathJax-Span-92\" class=\"mo\">/</span></span></span><span id=\"MathJax-Span-93\" class=\"msubsup\"><span style=\"display: inline-block; position: relative; width: 0.868em; height: 0px;\"><span style=\"position: absolute; clip: rect(3.465em, 1000em, 4.103em, -1000em); top: -3.995em; left: 0em;\"><span style=\"font-family: STIXMathJax_Main; font-style: italic;\" id=\"MathJax-Span-94\" class=\"mi\">v</span><span style=\"display: inline-block; width: 0px; height: 3.995em;\"></span></span><span style=\"position: absolute; top: -3.845em; left: 0.444em;\"><span style=\"font-size: 70.7%; font-family: STIXMathJax_Main; font-style: italic;\" id=\"MathJax-Span-95\" class=\"mi\">θ<span style=\"display: inline-block; overflow: hidden; height: 1px; width: 0.01em;\"></span></span><span style=\"display: inline-block; width: 0px; height: 3.995em;\"></span></span></span></span></span><span style=\"display: inline-block; width: 0px; height: 2.683em;\"></span></span></span><span style=\"border-left: 0em solid; display: inline-block; overflow: hidden; width: 0px; height: 1.152em; vertical-align: -0.242em;\"></span></span></nobr></span><script id=\"MathJax-Element-9\" type=\"math/tex\">\\sigma/v_\\theta</script></a></div><div class=\"lev1\"><a href=\"#Tracé-de-$\\lambda_1/\\lambda_0$-en-fonction-de-$m$,-et-$\\sigma-/-v_\\theta$\"><span class=\"toc-item-num\">8&nbsp;&nbsp;</span>Tracé de <span style=\"color: inherit;\" class=\"MathJax_Preview\"></span><span style=\"\" id=\"MathJax-Element-10-Frame\" class=\"MathJax\"><nobr><span style=\"width: 2.625em; display: inline-block;\" role=\"math\" id=\"MathJax-Span-96\" class=\"math\"><span style=\"display: inline-block; position: relative; width: 2.027em; height: 0px; font-size: 129%;\"><span style=\"position: absolute; clip: rect(1.916em, 1000em, 2.933em, -1000em); top: -2.683em; left: 0em;\"><span id=\"MathJax-Span-97\" class=\"mrow\"><span id=\"MathJax-Span-98\" class=\"msubsup\"><span style=\"display: inline-block; position: relative; width: 0.887em; height: 0px;\"><span style=\"position: absolute; clip: rect(3.228em, 1000em, 4.101em, -1000em); top: -3.995em; left: 0em;\"><span style=\"font-family: STIXMathJax_Main; font-style: italic;\" id=\"MathJax-Span-99\" class=\"mi\">λ</span><span style=\"display: inline-block; width: 0px; height: 3.995em;\"></span></span><span style=\"position: absolute; top: -3.845em; left: 0.458em;\"><span style=\"font-size: 70.7%; font-family: STIXMathJax_Main;\" id=\"MathJax-Span-100\" class=\"mn\">1</span><span style=\"display: inline-block; width: 0px; height: 3.995em;\"></span></span></span></span><span id=\"MathJax-Span-101\" class=\"texatom\"><span id=\"MathJax-Span-102\" class=\"mrow\"><span style=\"font-family: STIXMathJax_Main;\" id=\"MathJax-Span-103\" class=\"mo\">/</span></span></span><span id=\"MathJax-Span-104\" class=\"msubsup\"><span style=\"display: inline-block; position: relative; width: 0.887em; height: 0px;\"><span style=\"position: absolute; clip: rect(3.228em, 1000em, 4.101em, -1000em); top: -3.995em; left: 0em;\"><span style=\"font-family: STIXMathJax_Main; font-style: italic;\" id=\"MathJax-Span-105\" class=\"mi\">λ</span><span style=\"display: inline-block; width: 0px; height: 3.995em;\"></span></span><span style=\"position: absolute; top: -3.845em; left: 0.458em;\"><span style=\"font-size: 70.7%; font-family: STIXMathJax_Main;\" id=\"MathJax-Span-106\" class=\"mn\">0</span><span style=\"display: inline-block; width: 0px; height: 3.995em;\"></span></span></span></span></span><span style=\"display: inline-block; width: 0px; height: 2.683em;\"></span></span></span><span style=\"border-left: 0em solid; display: inline-block; overflow: hidden; width: 0px; height: 1.158em; vertical-align: -0.245em;\"></span></span></nobr></span><script id=\"MathJax-Element-10\" type=\"math/tex\">\\lambda_1/\\lambda_0</script> en fonction de <span style=\"color: inherit;\" class=\"MathJax_Preview\"></span><span style=\"\" id=\"MathJax-Element-11-Frame\" class=\"MathJax\"><nobr><span style=\"width: 0.971em; display: inline-block;\" role=\"math\" id=\"MathJax-Span-107\" class=\"math\"><span style=\"display: inline-block; position: relative; width: 0.745em; height: 0px; font-size: 129%;\"><span style=\"position: absolute; clip: rect(1.974em, 1000em, 2.603em, -1000em); top: -2.504em; left: 0em;\"><span id=\"MathJax-Span-108\" class=\"mrow\"><span style=\"font-family: STIXMathJax_Main; font-style: italic;\" id=\"MathJax-Span-109\" class=\"mi\">m</span></span><span style=\"display: inline-block; width: 0px; height: 2.504em;\"></span></span></span><span style=\"border-left: 0em solid; display: inline-block; overflow: hidden; width: 0px; height: 0.657em; vertical-align: -0.05em;\"></span></span></nobr></span><script id=\"MathJax-Element-11\" type=\"math/tex\">m</script>, et <span style=\"color: inherit;\" class=\"MathJax_Preview\"></span><span style=\"\" id=\"MathJax-Element-12-Frame\" class=\"MathJax\"><nobr><span style=\"width: 2.163em; display: inline-block;\" role=\"math\" id=\"MathJax-Span-110\" class=\"math\"><span style=\"display: inline-block; position: relative; width: 1.67em; height: 0px; font-size: 129%;\"><span style=\"position: absolute; clip: rect(1.918em, 1000em, 2.931em, -1000em); top: -2.683em; left: 0em;\"><span id=\"MathJax-Span-111\" class=\"mrow\"><span style=\"font-family: STIXMathJax_Main; font-style: italic;\" id=\"MathJax-Span-112\" class=\"mi\">σ<span style=\"display: inline-block; overflow: hidden; height: 1px; width: 0.033em;\"></span></span><span id=\"MathJax-Span-113\" class=\"texatom\"><span id=\"MathJax-Span-114\" class=\"mrow\"><span style=\"font-family: STIXMathJax_Main;\" id=\"MathJax-Span-115\" class=\"mo\">/</span></span></span><span id=\"MathJax-Span-116\" class=\"msubsup\"><span style=\"display: inline-block; position: relative; width: 0.868em; height: 0px;\"><span style=\"position: absolute; clip: rect(3.465em, 1000em, 4.103em, -1000em); top: -3.995em; left: 0em;\"><span style=\"font-family: STIXMathJax_Main; font-style: italic;\" id=\"MathJax-Span-117\" class=\"mi\">v</span><span style=\"display: inline-block; width: 0px; height: 3.995em;\"></span></span><span style=\"position: absolute; top: -3.845em; left: 0.444em;\"><span style=\"font-size: 70.7%; font-family: STIXMathJax_Main; font-style: italic;\" id=\"MathJax-Span-118\" class=\"mi\">θ<span style=\"display: inline-block; overflow: hidden; height: 1px; width: 0.01em;\"></span></span><span style=\"display: inline-block; width: 0px; height: 3.995em;\"></span></span></span></span></span><span style=\"display: inline-block; width: 0px; height: 2.683em;\"></span></span></span><span style=\"border-left: 0em solid; display: inline-block; overflow: hidden; width: 0px; height: 1.152em; vertical-align: -0.242em;\"></span></span></nobr></span><script id=\"MathJax-Element-12\" type=\"math/tex\">\\sigma / v_\\theta</script></a></div><div class=\"lev2\"><a href=\"#Pancakitude\"><span class=\"toc-item-num\">8.1&nbsp;&nbsp;</span>Pancakitude</a></div><div class=\"lev2\"><a href=\"#Cigaritude\"><span class=\"toc-item-num\">8.2&nbsp;&nbsp;</span>Cigaritude</a></div><div class=\"lev2\"><a href=\"#Using-a-bincount\"><span class=\"toc-item-num\">8.3&nbsp;&nbsp;</span>Using a bincount</a></div><div class=\"lev3\"><a href=\"#Distribution-oblate-et-prolate-en-fonction-de-la-masse\"><span class=\"toc-item-num\">8.3.1&nbsp;&nbsp;</span>Distribution oblate et prolate en fonction de la masse</a></div><div class=\"lev3\"><a href=\"#En-3D\"><span class=\"toc-item-num\">8.3.2&nbsp;&nbsp;</span>En 3D</a></div><div class=\"lev3\"><a href=\"#Oblate---prolate\"><span class=\"toc-item-num\">8.3.3&nbsp;&nbsp;</span>Oblate - prolate</a></div><div class=\"lev1\"><a href=\"#Python-code-to-easily-load-and-get-data-for-a-halo\"><span class=\"toc-item-num\">9&nbsp;&nbsp;</span>Python code to easily load and get data for a halo</a></div><div class=\"lev3\"><a href=\"#Tests\"><span class=\"toc-item-num\">9.0.1&nbsp;&nbsp;</span>Tests</a></div><div class=\"lev1\"><a href=\"#Vérifications\"><span class=\"toc-item-num\">10&nbsp;&nbsp;</span>Vérifications</a></div><div class=\"lev2\"><a href=\"#Étude-du-plot-de-la-masse-en-fonction-des-$\\prod_i\\lambda_i$\"><span class=\"toc-item-num\">10.1&nbsp;&nbsp;</span>Étude du plot de la masse en fonction des <span style=\"color: inherit;\" class=\"MathJax_Preview\"></span><span style=\"\" id=\"MathJax-Element-17-Frame\" class=\"MathJax\"><nobr><span style=\"width: 2.83em; display: inline-block;\" role=\"math\" id=\"MathJax-Span-165\" class=\"math\"><span style=\"display: inline-block; position: relative; width: 2.185em; height: 0px; font-size: 129%;\"><span style=\"position: absolute; clip: rect(1.6em, 1000em, 2.876em, -1000em); top: -2.467em; left: 0em;\"><span id=\"MathJax-Span-166\" class=\"mrow\"><span id=\"MathJax-Span-167\" class=\"munderover\"><span style=\"display: inline-block; position: relative; width: 1.272em; height: 0px;\"><span style=\"position: absolute; clip: rect(3.15em, 1000em, 4.384em, -1000em); top: -4.017em; left: 0em;\"><span style=\"font-family: STIXMathJax_Operators; vertical-align: -0.002em;\" id=\"MathJax-Span-168\" class=\"mo\">∏</span><span style=\"display: inline-block; width: 0px; height: 4.017em;\"></span></span><span style=\"position: absolute; top: -3.721em; left: 1em;\"><span style=\"font-size: 70.7%; font-family: STIXMathJax_Main; font-style: italic;\" id=\"MathJax-Span-169\" class=\"mi\">i</span><span style=\"display: inline-block; width: 0px; height: 4.017em;\"></span></span></span></span><span style=\"padding-left: 0.188em;\" id=\"MathJax-Span-170\" class=\"msubsup\"><span style=\"display: inline-block; position: relative; width: 0.73em; height: 0px;\"><span style=\"position: absolute; clip: rect(3.233em, 1000em, 4.139em, -1000em); top: -4.017em; left: 0em;\"><span style=\"font-family: STIXMathJax_Main; font-style: italic;\" id=\"MathJax-Span-171\" class=\"mi\">λ</span><span style=\"display: inline-block; width: 0px; height: 4.017em;\"></span></span><span style=\"position: absolute; top: -3.867em; left: 0.458em;\"><span style=\"font-size: 70.7%; font-family: STIXMathJax_Main; font-style: italic;\" id=\"MathJax-Span-172\" class=\"mi\">i</span><span style=\"display: inline-block; width: 0px; height: 4.017em;\"></span></span></span></span></span><span style=\"display: inline-block; width: 0px; height: 2.467em;\"></span></span></span><span style=\"border-left: 0em solid; display: inline-block; overflow: hidden; width: 0px; height: 1.465em; vertical-align: -0.438em;\"></span></span></nobr></span><script id=\"MathJax-Element-17\" type=\"math/tex\">\\prod_i\\lambda_i</script></a></div>"
   ]
  },
  {
   "cell_type": "code",
   "execution_count": null,
   "metadata": {
    "collapsed": false
   },
   "outputs": [],
   "source": [
    "%load_ext autoreload"
   ]
  },
  {
   "cell_type": "code",
   "execution_count": null,
   "metadata": {
    "collapsed": false
   },
   "outputs": [],
   "source": [
    "%autoreload"
   ]
  },
  {
   "cell_type": "code",
   "execution_count": null,
   "metadata": {
    "collapsed": false,
    "slideshow": {
     "slide_type": "skip"
    }
   },
   "outputs": [],
   "source": [
    "%matplotlib notebook\n",
    "\n",
    "import pandas as pd\n",
    "import numpy as np\n",
    "import matplotlib.pyplot as plt\n",
    "import itertools\n",
    "from tqdm import tqdm\n",
    "from pandas.tools.plotting import scatter_matrix\n",
    "from mpl_toolkits.mplot3d import Axes3D\n",
    "import matplotlib\n",
    "import tools as t\n",
    "from matplotlib.colors import LogNorm, SymLogNorm, BoundaryNorm, Normalize\n",
    "#plt.rcParams['figure.figsize'] = (23, 23*10./16.)\n",
    "f = 1\n",
    "plt.rcParams['figure.figsize'] = (23*f, 23*10./16*f)\n",
    "plt.rcParams['figure.dpi'] = 72\n",
    "matplotlib.style.use(['ggplot', 'presentation'])"
   ]
  },
  {
   "cell_type": "markdown",
   "metadata": {
    "slideshow": {
     "slide_type": "slide"
    }
   },
   "source": [
    "# Getting data"
   ]
  },
  {
   "cell_type": "code",
   "execution_count": null,
   "metadata": {
    "collapsed": false,
    "slideshow": {
     "slide_type": "subslide"
    }
   },
   "outputs": [],
   "source": [
    "#%%px --local\n",
    "halo_inertia = pd.read_csv('lists/halo.00002.inertia_tensor.dat', delim_whitespace=True).set_index('halo_id')"
   ]
  },
  {
   "cell_type": "code",
   "execution_count": null,
   "metadata": {
    "collapsed": true,
    "slideshow": {
     "slide_type": "subslide"
    }
   },
   "outputs": [],
   "source": [
    "halo_list = pd.read_csv('lists/list_halo.dat',\n",
    "                        delim_whitespace=True,\n",
    "                        skiprows=1,\n",
    "                        names=['id', 'level', 'mass', 'x', 'y', 'z', 'r']).set_index('id')"
   ]
  },
  {
   "cell_type": "code",
   "execution_count": null,
   "metadata": {
    "code_folding": [],
    "collapsed": false,
    "slideshow": {
     "slide_type": "subslide"
    }
   },
   "outputs": [],
   "source": [
    "unit, ncol, nrow = t.io.read_list_header('lists/list_kingal_00782.dat')\n",
    "gal_dynamics = pd.DataFrame(t.io.read_list_data_reals(unit, ncol, nrow),\n",
    "                            columns=['id', 'vtheta', 'dvx', 'dvy', 'dvz', 'mass', 'x', 'y', 'z']).set_index('id')\n",
    "\n",
    "gd = gal_dynamics\n",
    "gal_dynamics['sigma_over_vtheta'] = 1./3*np.sqrt((gd.dvx**2 + gd.dvy**2 + gd.dvz**2)) / np.abs(gd.vtheta)\n",
    "del gd"
   ]
  },
  {
   "cell_type": "code",
   "execution_count": null,
   "metadata": {
    "collapsed": true,
    "slideshow": {
     "slide_type": "subslide"
    }
   },
   "outputs": [],
   "source": [
    "association = pd.read_csv('lists/associated_halogal_782.dat', delim_whitespace=True, skiprows=1,\n",
    "                          names=['halo_id', 'level', 'halo_mass', 'gal_id', 'gal_mass']).set_index('halo_id')"
   ]
  },
  {
   "cell_type": "code",
   "execution_count": null,
   "metadata": {
    "collapsed": false,
    "slideshow": {
     "slide_type": "subslide"
    }
   },
   "outputs": [],
   "source": [
    "halos = t.io.read_brick('/data52/Horizon-AGN/TREE_DM_celldx2kpc_SC0.9r/tree_bricks782', low_mem=['nparts', 'members', 'idh', 'hlevel'])\n",
    "l = list(tqdm(halos.it))\n",
    "halos_props = pd.DataFrame([{'hlevel': h['hlevel'], 'idh':h['idh'][0], 'nparts': h['nparts'][0]} for h in l]).set_index('idh')\n",
    "halo_members = [{'idh': h['idh'][0], 'members': h['members']} for h in l]\n",
    "del l"
   ]
  },
  {
   "cell_type": "markdown",
   "metadata": {
    "slideshow": {
     "slide_type": "slide"
    }
   },
   "source": [
    "# Read the inertia tensor list"
   ]
  },
  {
   "cell_type": "code",
   "execution_count": null,
   "metadata": {
    "collapsed": false,
    "slideshow": {
     "slide_type": "subslide"
    }
   },
   "outputs": [],
   "source": [
    "inertia_data = pd.read_csv('data/halo_kin.00002.1e10_m.dat', delim_whitespace=True, dtype=np.float,\n",
    "                           engine='c', index_col=0)\n",
    "\n",
    "print('Found {} halo.'.format(inertia_data['mass'].size))"
   ]
  },
  {
   "cell_type": "code",
   "execution_count": null,
   "metadata": {
    "collapsed": false,
    "slideshow": {
     "slide_type": "subslide"
    }
   },
   "outputs": [],
   "source": [
    "inertia_data.describe()"
   ]
  },
  {
   "cell_type": "markdown",
   "metadata": {
    "slideshow": {
     "slide_type": "slide"
    }
   },
   "source": [
    "# Populate the sigma of each halo found"
   ]
  },
  {
   "cell_type": "code",
   "execution_count": null,
   "metadata": {
    "collapsed": false
   },
   "outputs": [],
   "source": [
    "def get_sov():\n",
    "    halo_with_galaxy = set(association.index)\n",
    "    inertia_data_halos = set(inertia_data.index)\n",
    "    common = halo_with_galaxy.intersection(inertia_data_halos)\n",
    "    gal_ids = association.loc[common, 'gal_id'].as_matrix()\n",
    "    sov = gal_dynamics.loc[gal_ids, 'sigma_over_vtheta'].as_matrix()\n",
    "    return common, sov\n",
    "ids, sov = get_sov()\n",
    "inertia_data.loc[ids, 'sigma_over_vtheta'] = sov"
   ]
  },
  {
   "cell_type": "markdown",
   "metadata": {
    "slideshow": {
     "slide_type": "slide"
    }
   },
   "source": [
    "# Compute eigenvalues"
   ]
  },
  {
   "cell_type": "code",
   "execution_count": null,
   "metadata": {
    "collapsed": false,
    "scrolled": true,
    "slideshow": {
     "slide_type": "subslide"
    }
   },
   "outputs": [],
   "source": [
    "%%cython\n",
    "cimport numpy as np\n",
    "import numpy as np\n",
    "cimport cython\n",
    "\n",
    "@cython.boundscheck(False)\n",
    "cdef np.ndarray[double, ndim=2] cy_compute_tensor(np.ndarray[double, ndim=1] xx, np.ndarray[double, ndim=1] xy, \n",
    "                   np.ndarray[double, ndim=1] xz, np.ndarray[double, ndim=1] yy,\n",
    "                   np.ndarray[double, ndim=1] yz, np.ndarray[double, ndim=1] zz, tqdm):\n",
    "    cdef int i, j\n",
    "    cdef np.ndarray[double, ndim=2] I\n",
    "    cdef np.ndarray[double, ndim=2] eva = np.zeros((len(xx), 3))\n",
    "    cdef np.ndarray[double, ndim=1] tmp\n",
    "\n",
    "    for i in tqdm(range(len(xx))):\n",
    "        I = np.zeros((3, 3))\n",
    "        I[0,0] = xx[i]\n",
    "        I[0,1] = xy[i]\n",
    "        I[1,0] = xy[i]\n",
    "        I[0,2] = xz[i]\n",
    "        I[2,0] = xz[i]\n",
    "        I[1,1] = yy[i]\n",
    "        I[1,2] = yz[i]\n",
    "        I[2,1] = yz[i]\n",
    "        I[2,2] = zz[i]\n",
    "\n",
    "        tmp = np.linalg.eigvalsh(I)\n",
    "        for j in range(3):\n",
    "            eva[i, j] = tmp[j]\n",
    "    return eva\n",
    "\n",
    "def compute_tensor(d, tqdm=None):\n",
    "    cdef np.ndarray[double, ndim=1] xx, xy, xz, yy, yz, zz \n",
    "    xx, xy, xz, yy, yz, zz = np.array([d['xx'], d['xy'], d['xz'], d['yy'], d['yz'], d['zz']], dtype=np.float)\n",
    "    if tqdm == None:\n",
    "        tqdm = lambda i: i\n",
    "    return cy_compute_tensor(xx, xy, xz, yy, yz, zz, tqdm)                "
   ]
  },
  {
   "cell_type": "code",
   "execution_count": null,
   "metadata": {
    "collapsed": false,
    "slideshow": {
     "slide_type": "fragment"
    }
   },
   "outputs": [],
   "source": [
    "eva = compute_tensor(inertia_data, tqdm=tqdm)"
   ]
  },
  {
   "cell_type": "code",
   "execution_count": null,
   "metadata": {
    "collapsed": false,
    "slideshow": {
     "slide_type": "fragment"
    }
   },
   "outputs": [],
   "source": [
    "inertia_data['l0'] = np.sqrt(eva[:, 0])\n",
    "inertia_data['l1'] = np.sqrt(eva[:, 1])\n",
    "inertia_data['l2'] = np.sqrt(eva[:, 2])"
   ]
  },
  {
   "cell_type": "code",
   "execution_count": null,
   "metadata": {
    "collapsed": false,
    "scrolled": false,
    "slideshow": {
     "slide_type": "fragment"
    }
   },
   "outputs": [],
   "source": [
    "inertia_data[['log(mass)', 'log(l0)', 'log(l1)', 'log(l2)', 'log(sigma_over_vtheta)']] = (\n",
    "    np.log10(inertia_data[['mass', 'l0', 'l1', 'l2', 'sigma_over_vtheta']])\n",
    "    )"
   ]
  },
  {
   "cell_type": "markdown",
   "metadata": {},
   "source": [
    "\n",
    "## For the halos, get their level from the brick"
   ]
  },
  {
   "cell_type": "code",
   "execution_count": null,
   "metadata": {
    "collapsed": false
   },
   "outputs": [],
   "source": [
    "to_set = set(inertia_data.index)\n",
    "from_set = set(halos_props.index)\n",
    "\n",
    "inter = list(to_set.intersection(from_set))\n",
    "inertia_data.loc[inter, 'hlevel'] = halos_props.loc[inter, 'hlevel']"
   ]
  },
  {
   "cell_type": "code",
   "execution_count": null,
   "metadata": {
    "collapsed": false
   },
   "outputs": [],
   "source": [
    "inertia_data.head()"
   ]
  },
  {
   "cell_type": "markdown",
   "metadata": {},
   "source": [
    "## Calcul des paramètres de l'ellipse"
   ]
  },
  {
   "cell_type": "code",
   "execution_count": null,
   "metadata": {
    "collapsed": false
   },
   "outputs": [],
   "source": [
    "inertia_data['prolacity'] = inertia_data.eval('l2/sqrt(l1*l0)')\n",
    "inertia_data['log(prolacity)'] = np.log10(inertia_data['prolacity'])\n",
    "\n",
    "inertia_data['oblacity'] = inertia_data.eval('sqrt(l2*l1)/l0')\n",
    "inertia_data['log(oblacity)'] = np.log10(inertia_data['oblacity'])"
   ]
  },
  {
   "cell_type": "markdown",
   "metadata": {
    "slideshow": {
     "slide_type": "slide"
    }
   },
   "source": [
    "# Tracé des valeurs propres $\\lambda_i$ en fonction de la masse et de $\\sigma/v_\\theta$\n",
    "\n",
    "On ne prend qu'un point sur 100 pour des questions de temps pour générer le plot dans toute cette section."
   ]
  },
  {
   "cell_type": "code",
   "execution_count": null,
   "metadata": {
    "collapsed": false,
    "slideshow": {
     "slide_type": "subslide"
    }
   },
   "outputs": [],
   "source": [
    "foo = scatter_matrix(inertia_data[['log(mass)', 'log(l0)', 'log(l1)', 'log(l2)', 'log(sigma_over_vtheta)']][::100],\n",
    "                     diagonal='kde', alpha=0.5)"
   ]
  },
  {
   "cell_type": "markdown",
   "metadata": {
    "collapsed": true,
    "slideshow": {
     "slide_type": "slide"
    }
   },
   "source": [
    "## Tracé avec $\\kappa_{i,j} = \\frac{\\lambda_i}{\\lambda_j}$, les facteurs d'asymétrie"
   ]
  },
  {
   "cell_type": "code",
   "execution_count": null,
   "metadata": {
    "collapsed": false,
    "slideshow": {
     "slide_type": "subslide"
    }
   },
   "outputs": [],
   "source": [
    "inertia_data['kappa21'] = inertia_data['l2'] / inertia_data['l1']\n",
    "inertia_data['kappa20'] = inertia_data['l2'] / inertia_data['l0']\n",
    "inertia_data['kappa10'] = inertia_data['l1'] / inertia_data['l0']\n",
    "inertia_data[['log(kappa21)', 'log(kappa20)', 'log(kappa10)']] = (\n",
    "    np.log10(inertia_data[['kappa21', 'kappa20', 'kappa10']])\n",
    "    )"
   ]
  },
  {
   "cell_type": "code",
   "execution_count": null,
   "metadata": {
    "collapsed": true,
    "slideshow": {
     "slide_type": "fragment"
    }
   },
   "outputs": [],
   "source": [
    "foo = scatter_matrix(inertia_data[['log(mass)', 'log(kappa21)', 'log(kappa20)', 'log(kappa10)', 'log(sigma_over_vtheta)']][::100],\n",
    "                     diagonal='kde', alpha=0.5)"
   ]
  },
  {
   "cell_type": "markdown",
   "metadata": {
    "collapsed": true,
    "slideshow": {
     "slide_type": "slide"
    }
   },
   "source": [
    "# Vérification de $\\prod_i\\lambda_i \\propto m$"
   ]
  },
  {
   "cell_type": "code",
   "execution_count": null,
   "metadata": {
    "collapsed": false,
    "scrolled": true,
    "slideshow": {
     "slide_type": "subslide"
    }
   },
   "outputs": [],
   "source": [
    "plt.scatter(np.log10(inertia_data.eval('l0*l1*l2')), inertia_data['log(mass)'], marker='.',\n",
    "            cmap='viridis')\n",
    "\n",
    "plt.xlabel('$\\prod_i\\lambda_i$ [arbitraire]')\n",
    "plt.ylabel('$\\log(m)$ [$M_\\odot$]')"
   ]
  },
  {
   "cell_type": "markdown",
   "metadata": {
    "slideshow": {
     "slide_type": "fragment"
    }
   },
   "source": [
    "On constate que $\\prod_i \\lambda_i$ est corrélé pour des grandes masses $\\left(m \\geq 10^{12}M_\\odot\\right)$ et pas pour des faibles masses."
   ]
  },
  {
   "cell_type": "markdown",
   "metadata": {
    "slideshow": {
     "slide_type": "slide"
    }
   },
   "source": [
    "# Corrélation entre $\\lambda_2 / m^{1/3}$ et $\\sigma/v_\\theta$"
   ]
  },
  {
   "cell_type": "code",
   "execution_count": null,
   "metadata": {
    "collapsed": true,
    "slideshow": {
     "slide_type": "subslide"
    }
   },
   "outputs": [],
   "source": [
    "plt.scatter(inertia_data.eval('log(l2)-1./3*log(mass)'), inertia_data['log(sigma_over_vtheta)'],\n",
    "           c=inertia_data['log(mass)'], cmap='viridis')\n",
    "plt.xlabel(r'$ \\log\\left( \\frac{\\lambda_2}{m^{1/3}} \\right) $')\n",
    "plt.ylabel(r'$ \\log\\left( \\frac{\\sigma}{v_\\theta}   \\right) $')\n",
    "cb = plt.colorbar()\n",
    "cb.set_label('$\\log\\ m$ [$M_\\odot$]')"
   ]
  },
  {
   "cell_type": "code",
   "execution_count": null,
   "metadata": {
    "collapsed": false,
    "scrolled": true,
    "slideshow": {
     "slide_type": "subslide"
    }
   },
   "outputs": [],
   "source": [
    "plt.scatter(inertia_data.eval('log(l1)+log(l2)+log(l0)-log(mass)'), inertia_data['log(sigma_over_vtheta)'],\n",
    "           c=inertia_data['log(mass)'], cmap='viridis')\n",
    "plt.xlabel(r'$ \\log\\left( \\frac{\\lambda_2\\lambda_1\\lambda_0}{m} \\right) $')\n",
    "plt.ylabel(r'$ \\log\\left( \\frac{\\sigma}{v_\\theta}   \\right) $')\n",
    "cb = plt.colorbar()\n",
    "cb.set_label('$\\log\\ m$ [$M_\\odot$]')"
   ]
  },
  {
   "cell_type": "code",
   "execution_count": null,
   "metadata": {
    "collapsed": false,
    "scrolled": true,
    "slideshow": {
     "slide_type": "subslide"
    }
   },
   "outputs": [],
   "source": [
    "plt.scatter(inertia_data.eval('log(l0)-1./3*log(mass)'), inertia_data['log(sigma_over_vtheta)'],\n",
    "           c=inertia_data['log(mass)'], cmap='viridis')\n",
    "plt.xlabel(r'$ \\log\\left( \\frac{\\lambda_1}{m^{2/3}} \\right) $')\n",
    "plt.ylabel(r'$ \\log\\left( \\frac{\\sigma}{v_\\theta}   \\right) $')\n",
    "cb = plt.colorbar()\n",
    "cb.set_label('$\\log\\ m$ [$M_\\odot$]')"
   ]
  },
  {
   "cell_type": "code",
   "execution_count": null,
   "metadata": {
    "collapsed": false,
    "slideshow": {
     "slide_type": "subslide"
    }
   },
   "outputs": [],
   "source": [
    "tmp = inertia_data\n",
    "tmp['log(prod_li)'] = tmp.eval('log(l0*l1*l2)')\n",
    "tmp[['log(prod_li)', 'log(sigma_over_vtheta)', 'log(mass)']].corr()"
   ]
  },
  {
   "cell_type": "markdown",
   "metadata": {
    "slideshow": {
     "slide_type": "slide"
    }
   },
   "source": [
    "# Tracé de $\\lambda_1/\\lambda_0$ en fonction de $m$, et $\\sigma / v_\\theta$"
   ]
  },
  {
   "cell_type": "code",
   "execution_count": null,
   "metadata": {
    "collapsed": false,
    "scrolled": true,
    "slideshow": {
     "slide_type": "subslide"
    }
   },
   "outputs": [],
   "source": [
    "fig, axes = plt.subplots(2, 2, sharex=True, sharey=True)\n",
    "\n",
    "vmin, vmax = inertia_data['sigma_over_vtheta'].min(), inertia_data['sigma_over_vtheta'].max()\n",
    "\n",
    "for i,j in itertools.product(range(2), repeat=2):\n",
    "    massmin = 10 + i + 2*j\n",
    "    ax = axes[1-j,1-i]\n",
    "    tmp = inertia_data[inertia_data['log(mass)'] >= massmin][inertia_data['log(mass)'] < massmin + 1]\n",
    "    sc = ax.scatter(tmp['log(kappa21)'], tmp['log(mass)'], c=tmp['sigma_over_vtheta'],\n",
    "                    cmap='viridis', vmin=vmin, vmax=vmax)\n",
    "    ax.set_title(r'${} \\leq \\log\\ m < {}$'.format(massmin, massmin+1))\n",
    "axes[1,0].set_xlabel('$\\log \\lambda_2 - \\log \\lambda_1$')\n",
    "axes[1,1].set_xlabel('$\\log \\lambda_2 - \\log \\lambda_1$')\n",
    "\n",
    "axes[1,0].set_ylabel('$\\log\\ m$ [$M_\\odot$]')\n",
    "axes[0,0].set_ylabel('$\\log\\ m$ [$M_\\odot$]')\n",
    "\n",
    "fig.subplots_adjust(right=0.90, wspace=0, hspace=0)\n",
    "cbar_ax = fig.add_axes([0.92, 0.15, 0.03, 0.7])\n",
    "cb = plt.colorbar(sc, cax=cbar_ax)\n",
    "cb.set_label(r'$\\sigma/v_\\theta$')\n",
    "del tmp"
   ]
  },
  {
   "cell_type": "code",
   "execution_count": null,
   "metadata": {
    "collapsed": true,
    "slideshow": {
     "slide_type": "subslide"
    }
   },
   "outputs": [],
   "source": [
    "fig, ax = plt.subplots(1, 1, sharex=True, sharey=True)\n",
    "\n",
    "vmin, vmax = inertia_data['sigma_over_vtheta'].min(), inertia_data['sigma_over_vtheta'].max()\n",
    "\n",
    "ax = ax\n",
    "tmp = inertia_data\n",
    "sc = ax.scatter(tmp['log(kappa21)'], tmp['log(mass)'], c=tmp['sigma_over_vtheta'],\n",
    "                cmap='viridis', vmin=vmin, vmax=vmax)\n",
    "\n",
    "ax.set_xlabel('$\\log \\lambda_2 - \\log \\lambda_1$')\n",
    "ax.set_ylabel('$\\log\\ m$ [$M_\\odot$]')\n",
    "\n",
    "fig.subplots_adjust(right=0.90, wspace=0, hspace=0)\n",
    "cbar_ax = fig.add_axes([0.92, 0.15, 0.03, 0.7])\n",
    "cb = plt.colorbar(sc, cax=cbar_ax)\n",
    "cb.set_label(r'$\\sigma/v_\\theta$')\n",
    "del tmp"
   ]
  },
  {
   "cell_type": "markdown",
   "metadata": {
    "collapsed": true
   },
   "source": [
    "## Pancakitude\n",
    "On trace $\\frac{\\sqrt{\\lambda_2\\lambda_1}}{\\lambda_0}$ en fonction de la masse, coloré par $\\sigma/v_\\theta$."
   ]
  },
  {
   "cell_type": "code",
   "execution_count": null,
   "metadata": {
    "collapsed": false,
    "scrolled": true
   },
   "outputs": [],
   "source": [
    "fig, axes = plt.subplots(1, 2, sharex=True, sharey=True)\n",
    "\n",
    "vmin, vmax = inertia_data['sigma_over_vtheta'].min(), inertia_data['sigma_over_vtheta'].max()\n",
    "vmax = 10\n",
    "\n",
    "ax = axes[0]\n",
    "tmp = inertia_data[inertia_data['log(mass)'] > 12][inertia_data['sigma_over_vtheta'] > 1]\n",
    "sc = ax.hist2d(np.log10(tmp.eval('sqrt(l2*l1)/l0')), tmp['log(mass)'], bins=32, normed=True) #c=tmp['sigma_over_vtheta'],\n",
    "#                cmap='viridis', vmin=vmin, vmax=vmax)\n",
    "ax.set_title(r'$\\sigma/v_\\theta  > 1$')\n",
    "\n",
    "ax.set_xlabel('$\\log \\sqrt{\\lambda_2\\lambda_1} - \\log \\lambda_0$')\n",
    "ax.set_ylabel('$\\log\\ m$ [$M_\\odot$]')\n",
    "\n",
    "ax = axes[1]\n",
    "tmp = inertia_data[inertia_data['log(mass)'] > 12][inertia_data['sigma_over_vtheta'] <= 1]\n",
    "sc = ax.hist2d(np.log10(tmp.eval('sqrt(l2*l1)/l0')), tmp['log(mass)'], bins=32, normed=True) #c=tmp['sigma_over_vtheta'],\n",
    "#                cmap='viridis', vmin=vmin, vmax=vmax)\n",
    "ax.set_title(r'$\\sigma/v_\\theta \\leq 1$')\n",
    "\n",
    "ax.set_xlabel('$\\log \\sqrt{\\lambda_2\\lambda_1} - \\log \\lambda_0$')\n",
    "ax.set_ylabel('$\\log\\ m$ [$M_\\odot$]')\n",
    "\n",
    "#fig.subplots_adjust(right=0.90, wspace=0, hspace=0)\n",
    "#cbar_ax = fig.add_axes([0.92, 0.15, 0.03, 0.7])\n",
    "#cb = plt.colorbar(sc, cax=cbar_ax)\n",
    "#cb.set_label(r'$\\sigma/v_\\theta$')\n",
    "del tmp"
   ]
  },
  {
   "cell_type": "markdown",
   "metadata": {
    "collapsed": true
   },
   "source": [
    "## Cigaritude\n",
    "On trace $\\frac{\\lambda_2}{\\sqrt{\\lambda_0\\lambda_1}}$ en fonction de la masse, coloré par $\\sigma/v_\\theta$."
   ]
  },
  {
   "cell_type": "code",
   "execution_count": null,
   "metadata": {
    "collapsed": false,
    "scrolled": true
   },
   "outputs": [],
   "source": [
    "fig, axes = plt.subplots(1, 2, sharex=True, sharey=True)\n",
    "\n",
    "vmin, vmax = inertia_data['sigma_over_vtheta'].min(), inertia_data['sigma_over_vtheta'].max()\n",
    "vmax = 10\n",
    "\n",
    "ax = axes[0]\n",
    "tmp = inertia_data[inertia_data['log(mass)'] > 12][inertia_data['sigma_over_vtheta'] > 1]\n",
    "sc = ax.hist2d(np.log10(tmp.eval('l2/sqrt(l0*l1)')), tmp['log(mass)'], bins=32, normed=True) #c=tmp['sigma_over_vtheta'],\n",
    "#                cmap='viridis', vmin=vmin, vmax=vmax)\n",
    "ax.set_title(r'$\\sigma/v_\\theta  > 1$')\n",
    "\n",
    "ax.set_xlabel('$\\log \\lambda_2 - \\log \\sqrt{\\lambda_0\\lambda_1} $')\n",
    "ax.set_ylabel('$\\log\\ m$ [$M_\\odot$]')\n",
    "\n",
    "ax = axes[1]\n",
    "tmp = inertia_data[inertia_data['log(mass)'] > 12][inertia_data['sigma_over_vtheta'] <= 1]\n",
    "sc = ax.hist2d(np.log10(tmp.eval('l2/sqrt(l0*l1)')), tmp['log(mass)'], bins=32, normed=True) #c=tmp['sigma_over_vtheta'],\n",
    "#                cmap='viridis', vmin=vmin, vmax=vmax)\n",
    "ax.set_title(r'$\\sigma/v_\\theta  \\leq 1$')\n",
    "\n",
    "ax.set_xlabel('$\\log \\lambda_2 - \\log \\sqrt{\\lambda_0\\lambda_1} $')\n",
    "ax.set_ylabel('$\\log\\ m$ [$M_\\odot$]')\n",
    "\n",
    "#fig.subplots_adjust(right=0.90, wspace=0, hspace=0)\n",
    "#cbar_ax = fig.add_axes([0.92, 0.15, 0.03, 0.7])\n",
    "#cb = plt.colorbar(sc, cax=cbar_ax)\n",
    "#cb.set_label(r'$\\sigma/v_\\theta$')\n",
    "del tmp"
   ]
  },
  {
   "cell_type": "code",
   "execution_count": null,
   "metadata": {
    "collapsed": false,
    "scrolled": true
   },
   "outputs": [],
   "source": [
    "from matplotlib.colors import LogNorm\n",
    "fig, axes = plt.subplots(2, 2, sharex=True, sharey=True)\n",
    "\n",
    "minmass = 11.5\n",
    "maxmass = 12.5\n",
    "vmin, vmax = inertia_data['sigma_over_vtheta'].min(), inertia_data['sigma_over_vtheta'].max()\n",
    "vmax = 10\n",
    "\n",
    "for i, j in itertools.product(range(2), repeat=2):\n",
    "    \n",
    "    ax = axes[i, j]\n",
    "    if i == 0:\n",
    "        tmp = inertia_data[inertia_data['log(mass)'] >= minmass][inertia_data['log(mass)'] < maxmass][inertia_data['sigma_over_vtheta'] > 1]\n",
    "        ylabel = r'$\\log\\ m$ [$M_\\odot$]'\n",
    "        ylabel2 = r'$\\sigma/v_\\theta  > 1$'\n",
    "    elif i == 1:\n",
    "        tmp = inertia_data[inertia_data['log(mass)'] >= minmass][inertia_data['log(mass)'] < maxmass][inertia_data['sigma_over_vtheta'] <= 1]\n",
    "        ylabel = r'$\\log\\ m$ [$M_\\odot$]'\n",
    "        ylabel2 = r'$\\sigma/v_\\theta  \\leq 1$'\n",
    "        \n",
    "    if j == 0:\n",
    "        xdata  = np.log10(tmp.eval('l2/sqrt(l0*l1)'))\n",
    "        xlabel = '$\\log \\lambda_2 - \\log \\sqrt{\\lambda_0\\lambda_1} $ (prolate)'\n",
    "    elif j == 1:\n",
    "        xdata  = np.log10(tmp.eval('sqrt(l2*l1)/l0'))\n",
    "        xlabel = '$\\log \\sqrt{\\lambda_2\\lambda_1} - \\log\\lambda_0 $ (oblate)'  \n",
    "        \n",
    "    #_,_,_,img = ax.hist2d(xdata, tmp['log(mass)'], normed=True, bins=32, cmap='viridis') #c=tmp['sigma_over_vtheta'],\n",
    "    #                cmap='viridis', vmin=vmin, vmax=vmax)\n",
    "    img = ax.scatter(xdata, tmp['log(mass)'], c=tmp['sigma_over_vtheta'], norm=LogNorm(vmin=vmin, vmax=vmax), cmap='viridis')\n",
    "\n",
    "    if i == 1:\n",
    "        ax.set_xlabel(xlabel)\n",
    "    if j == 0:\n",
    "        ax.set_ylabel(ylabel)\n",
    "    elif j == 1:\n",
    "        ax2 = ax.twinx()\n",
    "        ax2.set_ylabel(ylabel2)\n",
    "        ax2.set_yticks([])\n",
    "        \n",
    "plt.subplots_adjust(right=0.90, wspace=0.01, hspace=0.01)\n",
    "cbar_ax = fig.add_axes([0.93, 0.15, 0.03, 0.7])\n",
    "cb = plt.colorbar(img, cax=cbar_ax)"
   ]
  },
  {
   "cell_type": "markdown",
   "metadata": {},
   "source": [
    "## Using a bincount"
   ]
  },
  {
   "cell_type": "markdown",
   "metadata": {},
   "source": [
    "### Distribution oblate et prolate en fonction de la masse"
   ]
  },
  {
   "cell_type": "code",
   "execution_count": null,
   "metadata": {
    "code_folding": [
     0,
     7
    ],
    "collapsed": false
   },
   "outputs": [],
   "source": [
    "def py_get_grids(x, y, nbin):\n",
    "    ''' Return the mean of z in each bin of x,y '''\n",
    "    ymi, yma = np.min(y), np.max(y)\n",
    "    xmi, xma = np.min(x), np.max(x)\n",
    "    \n",
    "    return np.mgrid[xmi:xma:1j*nbin, ymi:yma:1j*nbin]\n",
    "\n",
    "def py_compute_bin(x, y, z, nbin=10, tqdm=lambda e: e):\n",
    "    '''Parameter:\n",
    "    ----------\n",
    "    x,y,z: (N) array, the data\n",
    "    nbin: integer, the number of bin to project on\n",
    "    tqdm: function, function to pass to show progress\n",
    "    \n",
    "    Return: z_mean, z_std, z_count\n",
    "    -------\n",
    "    z_mean: (nbin, nbin) float array, the mean of z on each x,y bin\n",
    "    z_std: (nbin, nbin) float array, the standard deviation of z on each x,y bin\n",
    "    z_count: (nbin, nbin) integer array, the number of z in each x,y bin\n",
    "    '''\n",
    "    z_mean, z_count, z_std = [np.zeros((nbin, nbin)) for _ in range(3)]\n",
    "    \n",
    "    x_grid, y_grid = py_get_grids(x, y, nbin=nbin)\n",
    "    \n",
    "    for i in tqdm(range(nbin-1)):\n",
    "        tmp = z[x >= x_grid[i,0]][x < x_grid[i+1,0]]\n",
    "        for j in range(nbin-1):\n",
    "            # select our data\n",
    "            c = tmp[y >= y_grid[i,j]][y < y_grid[i+1,j+1]]\n",
    "            # compute the stat. data\n",
    "            z_mean[i, j], z_std[i, j], z_count[i, j] = c.describe()[['mean', 'std', 'count']]\n",
    "\n",
    "    return z_mean, z_std, z_count"
   ]
  },
  {
   "cell_type": "code",
   "execution_count": null,
   "metadata": {
    "collapsed": false
   },
   "outputs": [],
   "source": [
    "plt.figure()\n",
    "nbins=128\n",
    "_tmp = inertia_data\n",
    "mask = np.logical_not(np.isnan(_tmp['sigma_over_vtheta']))\n",
    "bin_sum, _, _   = np.histogram2d(_tmp['oblacity'][mask], _tmp['log(mass)'][mask], weights=1./_tmp['sigma_over_vtheta'][mask], bins=128)\n",
    "bin_count, xedge, yedge = np.histogram2d(_tmp['oblacity'][mask], _tmp['log(mass)'][mask], bins=128)\n",
    "\n",
    "extent = (xedge[0], xedge[-1], yedge[0], yedge[-1])\n",
    "\n",
    "CS = plt.contour(xedge[:-1], yedge[:-1], bin_count.T, norm=LogNorm(), extent=extent, origin='lower', cmap='Greys')\n",
    "plt.clabel(CS, inline=1, fontsize=14)\n",
    "\n",
    "img = plt.imshow((bin_sum / bin_count).T, origin='lower', extent=extent, aspect='auto', cmap='viridis', interpolation='None')#, vmax=10)\n",
    "\n",
    "\n",
    "cb = plt.colorbar(img)\n",
    "cb.set_label(r'$\\left\\langle v_\\theta / \\sigma \\right\\rangle$')\n",
    "\n",
    "#plt.xlim(extent[:2])\n",
    "#plt.ylim(extent[2:])\n",
    "\n",
    "plt.xlabel(r'$\\frac{\\sqrt{\\lambda_2\\lambda_1}}{\\lambda_0}$, oblateness')\n",
    "plt.ylabel('$\\log m$ [$M_\\odot$]')\n",
    "\n",
    "plt.savefig('/home/cadiou/plots/oblate__m__vtheta_o_sigma.png')\n",
    "del _tmp"
   ]
  },
  {
   "cell_type": "code",
   "execution_count": null,
   "metadata": {
    "code_folding": [
     4
    ],
    "collapsed": false,
    "scrolled": false
   },
   "outputs": [],
   "source": [
    "fig, axes = plt.subplots(nrows=2, ncols=2, sharex=True, sharey=True)\n",
    "axes = axes.flatten()\n",
    "\n",
    "nbins = 128\n",
    "zones = [\n",
    "    (\n",
    "        inertia_data[np.log10(inertia_data.eval('l0*l1*l2')) > -5][inertia_data['log(mass)'] < 12],\n",
    "        r\"$\\pi_i \\lambda_i > 10^{-5}$\", \"red\"\n",
    "    ), (\n",
    "        inertia_data[np.log10(inertia_data.eval('l0*l1*l2')) <= -5][np.log10(inertia_data.eval('l0*l1*l2')) > -6][inertia_data['log(mass)'] < 12],\n",
    "        r\"$10^{-6} > \\pi_i \\lambda_i \\geq 10^{-5}$\", \"green\"\n",
    "    ), (\n",
    "        inertia_data[np.log10(inertia_data.eval('l0*l1*l2')) <= -6][inertia_data['log(mass)'] < 12],\n",
    "         r\"$10^{-6} > \\pi_i \\lambda_i$\", \"blue\"\n",
    "    ), (inertia_data, #[inertia_data['log(mass)'] < 12],\n",
    "        \"Any\", \"grey\"\n",
    "    )\n",
    "]\n",
    "_range = [[1, 9], [10, 15]]\n",
    "for i, (zone, label, color) in zip(itertools.count(), zones):\n",
    "    ax = axes[i]\n",
    "    ax.set_title(label)\n",
    "    \n",
    "    _tmp = zone\n",
    "    \n",
    "    mask = np.logical_not(np.isnan(_tmp['sigma_over_vtheta']))\n",
    "    bin_sum, _, _   = np.histogram2d(_tmp['oblacity'][mask], _tmp['log(mass)'][mask], weights=1./_tmp['sigma_over_vtheta'][mask], bins=nbins, range=_range)\n",
    "    bin_count, xedge, yedge = np.histogram2d(_tmp['oblacity'][mask], _tmp['log(mass)'][mask], bins=nbins, range=_range)\n",
    "\n",
    "    extent = (xedge[0], xedge[-1], yedge[0], yedge[-1])\n",
    "\n",
    "    CS = ax.contour(xedge[:-1], yedge[:-1], bin_count.T, norm=LogNorm(), extent=extent, origin='lower', cmap='Greys')\n",
    "    ax.clabel(CS, inline=1, fontsize=14)\n",
    "\n",
    "    img = ax.imshow((bin_sum / bin_count).T, origin='lower', extent=extent, aspect='auto', cmap='viridis', interpolation='None')\n",
    "    \n",
    "    \n",
    "    #     counts, xedge, yedge, img = ax.hist2d(zone['oblacity'][mask], zone['log(mass)'][mask],\n",
    "    #                                           weights=1/zone['sigma_over_vtheta'][mask], bins=nbins, cmin=1e-2, cmap='viridis',\n",
    "    #                                           range=_range, norm=LogNorm(), vmax=50)\n",
    "    #     extent = (xedge[0], xedge[-1], yedge[0], yedge[-1])\n",
    "\n",
    "    #     CS = ax.contour(xedge[:-1], yedge[:-1], counts.T, norm=LogNorm(), origin='lower', cmap='Greys', alpha=0.5)\n",
    "    #     ax.clabel(CS, inline=1, fontsize=14)\n",
    "    #     cb = ax.colorbar()\n",
    "    #     cb.set_label(r'$\\left\\langle v_\\theta / \\sigma \\right\\rangle$')\n",
    "\n",
    "\n",
    "xlabel = r'$\\frac{\\sqrt{\\lambda_2\\lambda_1}}{\\lambda_0}$, oblateness'\n",
    "ylabel = '$\\log m$ [$M_\\odot$]'\n",
    "axes[3].set_xlabel(xlabel)\n",
    "axes[2].set_xlabel(xlabel)\n",
    "axes[0].set_ylabel(ylabel)\n",
    "axes[2].set_ylabel(ylabel)\n",
    "\n",
    "#axes[3].set_xlim(_range[0])\n",
    "#axes[3].set_ylim(_range[1])\n",
    "\n",
    "plt.subplots_adjust(right=0.90, wspace=0.01, hspace=0.05)\n",
    "cbar_ax = fig.add_axes([0.93, 0.15, 0.03, 0.7])\n",
    "cb = plt.colorbar(img, cax=cbar_ax)\n",
    "cb.set_label(r'$\\left\\langle v_\\theta / \\sigma \\right\\rangle$')\n",
    "plt.savefig('/home/cadiou/plots/oblate__m__vtheta_o_sigma__zones.png')"
   ]
  },
  {
   "cell_type": "code",
   "execution_count": null,
   "metadata": {
    "code_folding": [
     4
    ],
    "collapsed": false
   },
   "outputs": [],
   "source": [
    "fig, axes = plt.subplots(nrows=2, ncols=2, sharex=True, sharey=True)\n",
    "axes = axes.flatten()\n",
    "\n",
    "nbins = 128\n",
    "zones = [\n",
    "    (\n",
    "        inertia_data[np.log10(inertia_data.eval('l0*l1*l2')) > -5][inertia_data['log(mass)'] < 12],\n",
    "        r\"$\\pi_i \\lambda_i > 10^{-5}$\", \"red\"\n",
    "    ), (\n",
    "        inertia_data[np.log10(inertia_data.eval('l0*l1*l2')) <= -5][np.log10(inertia_data.eval('l0*l1*l2')) > -6][inertia_data['log(mass)'] < 12],\n",
    "        r\"$10^{-6} > \\pi_i \\lambda_i \\geq 10^{-5}$\", \"green\"\n",
    "    ), (\n",
    "        inertia_data[np.log10(inertia_data.eval('l0*l1*l2')) <= -6][inertia_data['log(mass)'] < 12],\n",
    "         r\"$10^{-6} > \\pi_i \\lambda_i$\", \"blue\"\n",
    "    ), (inertia_data, #[inertia_data['log(mass)'] < 12],\n",
    "        \"Any\", \"grey\"\n",
    "    )\n",
    "]\n",
    "_range = [[1, 9], [10, 15]]\n",
    "for i, (zone, label, color) in zip(itertools.count(), zones):\n",
    "    ax = axes[i]\n",
    "    ax.set_title(label)\n",
    "    \n",
    "    _tmp = zone\n",
    "    \n",
    "    mask = np.logical_not(np.isnan(_tmp['sigma_over_vtheta']))\n",
    "    bin_sum, _, _   = np.histogram2d(_tmp['prolacity'][mask], _tmp['log(mass)'][mask], weights=1./_tmp['sigma_over_vtheta'][mask], bins=nbins, range=_range)\n",
    "    bin_count, xedge, yedge = np.histogram2d(_tmp['prolacity'][mask], _tmp['log(mass)'][mask], bins=nbins, range=_range)\n",
    "\n",
    "    extent = (xedge[0], xedge[-1], yedge[0], yedge[-1])\n",
    "\n",
    "    CS = ax.contour(xedge[:-1], yedge[:-1], bin_count.T, norm=LogNorm(), extent=extent, origin='lower', cmap='Greys')\n",
    "    ax.clabel(CS, inline=1, fontsize=14)\n",
    "\n",
    "    img = ax.imshow((bin_sum / bin_count).T, origin='lower', extent=extent, aspect='auto', cmap='viridis', interpolation='None')\n",
    "    \n",
    "    \n",
    "    #     counts, xedge, yedge, img = ax.hist2d(zone['oblacity'][mask], zone['log(mass)'][mask],\n",
    "    #                                           weights=1/zone['sigma_over_vtheta'][mask], bins=nbins, cmin=1e-2, cmap='viridis',\n",
    "    #                                           range=_range, norm=LogNorm(), vmax=50)\n",
    "    #     extent = (xedge[0], xedge[-1], yedge[0], yedge[-1])\n",
    "\n",
    "    #     CS = ax.contour(xedge[:-1], yedge[:-1], counts.T, norm=LogNorm(), origin='lower', cmap='Greys', alpha=0.5)\n",
    "    #     ax.clabel(CS, inline=1, fontsize=14)\n",
    "    #     cb = ax.colorbar()\n",
    "    #     cb.set_label(r'$\\left\\langle v_\\theta / \\sigma \\right\\rangle$')\n",
    "\n",
    "\n",
    "xlabel = r'$\\frac{\\lambda_2}{\\sqrt{\\lambda_1\\lambda_0}}$, prolateness'\n",
    "ylabel = '$\\log m$ [$M_\\odot$]'\n",
    "axes[3].set_xlabel(xlabel)\n",
    "axes[2].set_xlabel(xlabel)\n",
    "axes[0].set_ylabel(ylabel)\n",
    "axes[2].set_ylabel(ylabel)\n",
    "\n",
    "#axes[3].set_xlim(_range[0])\n",
    "#axes[3].set_ylim(_range[1])\n",
    "\n",
    "plt.subplots_adjust(right=0.90, wspace=0.01, hspace=0.05)\n",
    "cbar_ax = fig.add_axes([0.93, 0.15, 0.03, 0.7])\n",
    "cb = plt.colorbar(img, cax=cbar_ax)\n",
    "cb.set_label(r'$\\left\\langle v_\\theta / \\sigma \\right\\rangle$')\n",
    "plt.savefig('/home/cadiou/plots/prolate__m__vtheta_o_sigma__zones.png')"
   ]
  },
  {
   "cell_type": "code",
   "execution_count": null,
   "metadata": {
    "collapsed": false,
    "scrolled": false
   },
   "outputs": [],
   "source": [
    "nbins = 128\n",
    "fig, (ax0, ax1) = plt.subplots(ncols=2)\n",
    "\n",
    "# Keep only halo with defined sigma/vtheta\n",
    "mask = np.logical_not(np.isnan(inertia_data['sigma_over_vtheta']))\n",
    "\n",
    "# Prolate\n",
    "_range = [[1, 9], [10, 15]]\n",
    "bin_sum, _, _   = np.histogram2d(inertia_data['prolacity'][mask], inertia_data['log(mass)'][mask], weights=1./inertia_data['sigma_over_vtheta'][mask], bins=nbins, range=_range)\n",
    "bin_count0, xedge0, yedge0 = np.histogram2d(inertia_data['prolacity'][mask], inertia_data['log(mass)'][mask], bins=nbins, range=_range)\n",
    "\n",
    "extent = (xedge0[0], xedge0[-1], yedge0[0], yedge0[-1])\n",
    "CS = ax0.contour((bin_count0).T, extent=extent, origin='lower', cmap='Greys', norm=LogNorm())\n",
    "ax0.clabel(CS, inline=1, fontsize=14)\n",
    "\n",
    "ax0.imshow((bin_sum / bin_count0).T, origin='lower', extent=extent, aspect='auto', cmap='viridis', interpolation='None', vmax=2)\n",
    "ax0.set_xlabel(r'$\\frac{\\lambda_2}{\\sqrt{\\lambda_1\\lambda_0}}$, prolateness')\n",
    "ax0.set_ylabel('$\\log m$ [$M_\\odot$]')\n",
    "ax0.set_xlim(1, 10)\n",
    "# Oblate\n",
    "bin_sum, _, _   = np.histogram2d(inertia_data['oblacity'][mask], inertia_data['log(mass)'][mask], weights=1./inertia_data['sigma_over_vtheta'][mask], bins=nbins)\n",
    "bin_count1, xedge1, yedge1 = np.histogram2d(inertia_data['oblacity'][mask], inertia_data['log(mass)'][mask], bins=nbins)\n",
    "\n",
    "extent = (xedge1[0], xedge1[-1], yedge1[0], yedge1[-1])\n",
    "CS = ax1.contour((bin_count1).T, extent=extent, origin='lower', cmap='Greys', norm=LogNorm())\n",
    "ax1.clabel(CS, inline=1, fontsize=14)\n",
    "\n",
    "img = ax1.imshow((bin_sum / bin_count1).T, origin='lower', extent=extent, aspect='auto', cmap='viridis', interpolation='None', vmax=2)\n",
    "ax1.set_xlabel(r'$\\frac{\\sqrt{\\lambda_2\\lambda_1}}{\\lambda_0}$, oblateness')\n",
    "#ax1.set_yticks()\n",
    "\n",
    "# add colorbar\n",
    "plt.subplots_adjust(right=0.90, wspace=0.01, hspace=0.01)\n",
    "cbar_ax = fig.add_axes([0.93, 0.15, 0.03, 0.7])\n",
    "cb = plt.colorbar(img, cax=cbar_ax)\n",
    "cb.set_label(r'$\\left\\langle v_\\theta/\\sigma \\right\\rangle$')\n",
    "\n",
    "plt.savefig('/home/cadiou/plots/prolate_and_oblate__m__vtheta_o_sigma.png')"
   ]
  },
  {
   "cell_type": "code",
   "execution_count": null,
   "metadata": {
    "collapsed": false,
    "scrolled": true
   },
   "outputs": [],
   "source": [
    "fig, axes = plt.subplots(2, 2, sharex=True, sharey=True)\n",
    "axes = axes.flatten()\n",
    "for i in range(4):\n",
    "    dt = inertia_data[inertia_data.hlevel >= i+1][inertia_data.hlevel < i+2]\n",
    "    axes[i].scatter(dt['log(prolacity)'], dt['log(mass)'])\n",
    "    axes[i].set_title('$%s \\leq \\mathrm{hlevel} < %s$' % (i+1, i+2))\n",
    "    axes[i].set_xlabel(u'Prolacité (log)')\n",
    "    axes[i].set_ylabel(u'Masse (log)')"
   ]
  },
  {
   "cell_type": "code",
   "execution_count": null,
   "metadata": {
    "collapsed": false,
    "scrolled": true
   },
   "outputs": [],
   "source": [
    "fig, axes = plt.subplots(2, 2, sharex=True, sharey=True)\n",
    "axes = axes.flatten()\n",
    "for i in range(4):\n",
    "    dt = inertia_data[inertia_data.hlevel >= i+1][inertia_data.hlevel < i+2]\n",
    "    axes[i].scatter(dt['log(oblacity)'], dt['log(mass)'])\n",
    "    axes[i].set_title('$%s \\leq \\mathrm{hlevel} < %s$' % (i+1, i+2))\n",
    "    axes[i].set_xlabel(u'Oblacité (log)')\n",
    "    axes[i].set_ylabel(u'Masse (log)')"
   ]
  },
  {
   "cell_type": "markdown",
   "metadata": {
    "collapsed": true
   },
   "source": [
    "### En 3D"
   ]
  },
  {
   "cell_type": "code",
   "execution_count": null,
   "metadata": {
    "collapsed": false,
    "scrolled": false
   },
   "outputs": [],
   "source": [
    "mask = np.logical_not(np.isnan(inertia_data['sigma_over_vtheta']))\n",
    "fig = plt.figure()\n",
    "ax = fig.add_subplot(111, projection='3d')\n",
    "\n",
    "ax.scatter3D(inertia_data['log(prolacity)'][mask][::50], inertia_data['log(oblacity)'][mask][::50], inertia_data['log(mass)'][mask][::50])\n",
    "ax.set_xlabel(r'$\\log\\frac{\\lambda_2}{\\sqrt{\\lambda_1\\lambda_0}}$, prolateness')\n",
    "ax.set_ylabel(r'$\\log\\frac{\\sqrt{\\lambda_2\\lambda_1}}{\\lambda_0}$, oblateness')\n",
    "ax.set_zlabel(r'$\\log m$')"
   ]
  },
  {
   "cell_type": "markdown",
   "metadata": {
    "collapsed": true
   },
   "source": [
    "### Oblate - prolate"
   ]
  },
  {
   "cell_type": "code",
   "execution_count": null,
   "metadata": {
    "collapsed": false,
    "scrolled": false
   },
   "outputs": [],
   "source": [
    "mask = np.logical_not(np.isnan(inertia_data['sigma_over_vtheta']))\n",
    "\n",
    "plt.figure()\n",
    "plt.scatter(inertia_data['oblacity'][mask], inertia_data['prolacity'][mask], c = 1/inertia_data['sigma_over_vtheta'][mask], cmap='viridis')\n",
    "\n",
    "cb = plt.colorbar()\n",
    "cb.set_label(r'$v_\\theta / \\sigma$')\n",
    "plt.xlabel('Oblate')\n",
    "plt.ylabel('Prolate')\n",
    "\n",
    "plt.savefig('/home/cadiou/plots/oblate__prolate__vtheta_o_sigma.png')"
   ]
  },
  {
   "cell_type": "code",
   "execution_count": null,
   "metadata": {
    "collapsed": false
   },
   "outputs": [],
   "source": [
    "mask = np.logical_not(np.isnan(inertia_data['sigma_over_vtheta']))\n",
    "\n",
    "nbins=128\n",
    "\n",
    "bin_sum, _, _           = np.histogram2d(inertia_data['oblacity'][mask], inertia_data['prolacity'][mask], weights=1./inertia_data['sigma_over_vtheta'][mask], bins=nbins, normed=False)\n",
    "bin_count, xedge, yedge = np.histogram2d(inertia_data['oblacity'][mask], inertia_data['prolacity'][mask], bins=nbins)\n",
    "\n",
    "extent = (xedge[0], xedge[-1], yedge[0], yedge[-1])\n",
    "\n",
    "plt.figure()\n",
    "plt.imshow((bin_sum/bin_count).T, cmap='viridis', origin='lower', interpolation='none', extent=extent, aspect='auto')\n",
    "\n",
    "CS = plt.contour(bin_count.T, extent=extent, origin='lower', cmap='Greys', norm=LogNorm())\n",
    "plt.clabel(CS, inline=1, fontsize=14)\n",
    "\n",
    "cb = plt.colorbar()\n",
    "cb.set_label(r'$\\left\\langle v_\\theta / \\sigma \\right\\rangle$')\n",
    "plt.xlabel('Oblate')\n",
    "plt.ylabel('Prolate')"
   ]
  },
  {
   "cell_type": "code",
   "execution_count": null,
   "metadata": {
    "collapsed": false
   },
   "outputs": [],
   "source": [
    "inertia_data.head()"
   ]
  },
  {
   "cell_type": "markdown",
   "metadata": {},
   "source": [
    "# Python code to easily load and get data for a halo"
   ]
  },
  {
   "cell_type": "code",
   "execution_count": null,
   "metadata": {
    "collapsed": false
   },
   "outputs": [],
   "source": [
    "import pymses\n",
    "import pymses.utils.constants as C\n",
    "import itertools\n",
    "class HaloPlotter():\n",
    "    def __init__(self, halo_data, members):\n",
    "        err = False\n",
    "        # check that we have the position and the lambdas\n",
    "        for e in ['x', 'y', 'z', 'l0', 'l1', 'l2']:\n",
    "            if e not in halo_data.columns:\n",
    "                err = True\n",
    "                print(\"`%s' is not in the dataframe. Please load it first\" % e)\n",
    "        if err:\n",
    "            del self\n",
    "            return\n",
    "        self.halo_data = halo_data\n",
    "        self.members = members\n",
    "        self.ro = pymses.RamsesOutput('/data52/Horizon-AGN/OUTPUT_DIR/', 2)\n",
    "        self.parts = self.ro.particle_source([\"pos\", \"mass\", \"id\"])\n",
    " \n",
    "    def __getitem__(self, halo_id):\n",
    "        pos = self.halo_data.loc[halo_id, ['x', 'y', 'z']] \n",
    "        lambdas = self.halo_data.loc[halo_id, ['l0', 'l1', 'l2']]\n",
    "        for i, h in zip(itertools.count(), halo_members):\n",
    "            if h['idh'] == halo_id:\n",
    "                print('Halo found', i)\n",
    "\n",
    "                break\n",
    "        if i >= len(halo_members):\n",
    "            print('Halo not found')\n",
    "            return\n",
    "        \n",
    "        def my_periodic_filter(dataset):\n",
    "            x = dataset.points[:,0]\n",
    "            mask = x<=0.05 + x >= 0.95\n",
    "            y = dataset.points[:,1]\n",
    "            mask *= 0.45 <= y <= 0.55\n",
    "            z = dataset.points[:,2]\n",
    "            mask *= 0.45 <= z <= 0.55\n",
    "            return mask \n",
    "        sphere = pymses.utils.regions.Sphere(pos, 2*np.max(lambdas))\n",
    "        region_filter    = pymses.filters.RegionFilter(sphere, self.parts)\n",
    "        region_id_filter = pymses.filters.PointFunctionFilter(PointFilter(self.members[i]['members'], region_filter)\n",
    "        return region_id_filter.flatten()\n",
    "    \n",
    "        \n",
    "# def hallo_plotter(halo_data):\n",
    "#     import pymses\n",
    "\n",
    "#     ro = pymses.RamsesOutput('/data52/Horizon-AGN/OUTPUT_DIR/', 2)\n",
    "#     parts = ro.particle_source([\"pos\", \"mass\", \"id\"])\n",
    "\n",
    "#     def \n",
    "#     pymses.utils.regions.Sphere\n",
    "#     pymses.filters.PointIdFilter\n",
    "# ro = pymses.\n",
    "# def read_halo(halo_id):\n",
    "    "
   ]
  },
  {
   "cell_type": "code",
   "execution_count": null,
   "metadata": {
    "collapsed": false
   },
   "outputs": [],
   "source": [
    "hp = HaloPlotter(inertia_data, halo_members)"
   ]
  },
  {
   "cell_type": "markdown",
   "metadata": {},
   "source": [
    "### Tests"
   ]
  },
  {
   "cell_type": "code",
   "execution_count": null,
   "metadata": {
    "collapsed": false
   },
   "outputs": [],
   "source": [
    "dset = hp[7]"
   ]
  },
  {
   "cell_type": "markdown",
   "metadata": {},
   "source": [
    "Not a lot of missing, mass, going ahead !"
   ]
  },
  {
   "cell_type": "code",
   "execution_count": null,
   "metadata": {
    "collapsed": false
   },
   "outputs": [],
   "source": [
    "dset['mass'].sum() * hp.ro.info['unit_mass'].express(C.Msun) / inertia_data.loc[7, 'mass']"
   ]
  },
  {
   "cell_type": "code",
   "execution_count": null,
   "metadata": {
    "collapsed": false
   },
   "outputs": [],
   "source": [
    "fig = plt.figure()\n",
    "ax = fig.add_subplot(111, projection='3d')\n",
    "ax.scatter3D(dset.points[:, 0], dset.points[:, 1], dset.points[:, 2])\n",
    "dset['mass']"
   ]
  },
  {
   "cell_type": "markdown",
   "metadata": {},
   "source": [
    "# Vérifications\n",
    "## Étude du plot de la masse en fonction des $\\prod_i\\lambda_i$"
   ]
  },
  {
   "cell_type": "code",
   "execution_count": null,
   "metadata": {
    "collapsed": false
   },
   "outputs": [],
   "source": [
    "plt.figure()\n",
    "zones = [\n",
    "    (\n",
    "        inertia_data[np.log10(inertia_data.eval('l0*l1*l2')) > -5][inertia_data['log(mass)'] < 12],\n",
    "        r\"$\\pi_i \\lambda_i > 10^{-5}$\", \"red\"\n",
    "    ), (\n",
    "        inertia_data[np.log10(inertia_data.eval('l0*l1*l2')) <= -5][np.log10(inertia_data.eval('l0*l1*l2')) > -6][inertia_data['log(mass)'] < 12],\n",
    "        r\"$10^{-6} > \\pi_i \\lambda_i \\geq 10^{-5}$\", \"green\"\n",
    "    ), (\n",
    "        inertia_data[np.log10(inertia_data.eval('l0*l1*l2')) <= -6][inertia_data['log(mass)'] < 12],\n",
    "         r\"$10^{-6} > \\pi_i \\lambda_i$\", \"blue\"\n",
    "    ), (inertia_data, #[inertia_data['log(mass)'] < 12],\n",
    "        \"Any\", \"grey\"\n",
    "    )\n",
    "]\n",
    "\n",
    "zones.reverse()\n",
    "for zone, label, color in zones:\n",
    "    plt.scatter(np.log10(zone.eval('l0*l1*l2')), zone['log(mass)'], label=label, c=color)\n",
    "# tmp = inertia_data\n",
    "# plt.scatter(np.log10(tmp.eval('l0*l1*l2')), tmp['log(mass)'], marker='.',\n",
    "#             cmap='viridis', label=None)\n",
    "\n",
    "# tmp = inertia_data[inertia_data['log(mass)'] <= 11][np.log10(inertia_data.eval('l0*l1*l2')) > -4]\n",
    "# plt.scatter(np.log10(tmp.eval('l0*l1*l2')), tmp['log(mass)'], marker='.', c='red', label='Zone 1',\n",
    "#             cmap='viridis')\n",
    "\n",
    "# tmp2 = inertia_data[inertia_data['log(mass)'] <= 11][np.log10(inertia_data.eval('l0*l1*l2')) < -7]\n",
    "# plt.scatter(np.log10(tmp2.eval('l0*l1*l2')), tmp2['log(mass)'], marker='.', c='green', label='Zone 2',\n",
    "#             cmap='viridis')\n",
    "\n",
    "plt.legend()\n",
    "plt.xlabel('$\\log\\prod_i\\lambda_i$ [arbitraire]')\n",
    "plt.ylabel('$\\log(m)$ [$M_\\odot$]')\n",
    "\n",
    "plt.savefig('/home/cadiou/plots/volume__mass__zones.png')"
   ]
  },
  {
   "cell_type": "code",
   "execution_count": null,
   "metadata": {
    "collapsed": false,
    "scrolled": true
   },
   "outputs": [],
   "source": [
    "fig, axes = plt.subplots(nrows=2, ncols=3, sharex=True, sharey=True)\n",
    "for lvl in range(1, 7):\n",
    "    ax = axes.flatten()[lvl-1]\n",
    "    tmp = inertia_data[inertia_data['hlevel'] == lvl]\n",
    "    ax.scatter(np.log10(tmp.eval('l0*l1*l2')), tmp['log(mass)'], label='$h_\\mathrm{lvl} = %s$' % lvl)\n",
    "    ax.legend()\n",
    "\n",
    "    ax.set_xlabel('$\\log\\prod_i\\lambda_i$ [arbitraire]')\n",
    "    ax.set_ylabel('$\\log(m)$ [$M_\\odot$]')\n",
    "\n",
    "\n",
    "plt.subplots_adjust(hspace=0.01, wspace=0.01)\n",
    "plt.savefig('/home/cadiou/plots/volume__mass__hlvl.png')"
   ]
  },
  {
   "cell_type": "code",
   "execution_count": null,
   "metadata": {
    "collapsed": false
   },
   "outputs": [],
   "source": [
    "fig, axes = plt.subplots(nrows=2, ncols=3, sharex=True, sharey=True)\n",
    "n = LogNorm()\n",
    "nbins = 64\n",
    "for lvl in range(1, 7):\n",
    "    ax = axes.flatten()[lvl-1]\n",
    "    tmp = inertia_data[inertia_data['hlevel'] == lvl]\n",
    "    \n",
    "    _,_,_, img = ax.hist2d(np.log10(tmp.eval('l0*l1*l2')), tmp['log(mass)'], cmap='viridis', bins=nbins, cmin=1, norm=n)\n",
    "    ax.legend([], ['$h_\\mathrm{lvl} = %s$' % lvl])\n",
    "\n",
    "    ax.set_xlabel('$\\log\\prod_i\\lambda_i$ [arbitraire]')\n",
    "    ax.set_ylabel('$\\log(m)$ [$M_\\odot$]')\n",
    "\n",
    "\n",
    "ax.set_xlim(-9, -2)\n",
    "ax.set_ylim(9, 16)\n",
    "plt.subplots_adjust(hspace=0.01, wspace=0.01, right=0.90)\n",
    "cbar_ax = fig.add_axes([0.93, 0.15, 0.03, 0.7])\n",
    "plt.colorbar(img, cax=cbar_ax)\n",
    "plt.savefig('/home/cadiou/plots/volume__mass__hlvl_hist2d.png')"
   ]
  },
  {
   "cell_type": "code",
   "execution_count": null,
   "metadata": {
    "collapsed": false
   },
   "outputs": [],
   "source": [
    "fig, ax = plt.subplots(nrows=1, ncols=1, sharex=True, sharey=True)\n",
    "n = Normalize()\n",
    "bins = 64\n",
    "\n",
    "tmp = inertia_data\n",
    "\n",
    "bin_sum, _, _           = np.histogram2d(np.log10(tmp.eval('l0*l1*l2')), tmp['log(mass)'], weights=tmp['hlevel'], bins=nbins, normed=False)\n",
    "bin_count, xedge, yedge = np.histogram2d(np.log10(tmp.eval('l0*l1*l2')), tmp['log(mass)'], bins=nbins)\n",
    "\n",
    "extent = (xedge[0], xedge[-1], yedge[0], yedge[-1])\n",
    "\n",
    "img = ax.imshow((bin_sum/bin_count).T, cmap='viridis', origin='lower', interpolation='none', extent=extent, aspect='auto', norm=n)\n",
    "\n",
    "#_,_,_, img = ax.hist2d(np.log10(tmp.eval('l0*l1*l2')), tmp['log(mass)'], cmap='viridis', bins=nbins, cmin=1, norm=n)\n",
    "ax.legend([], ['$h_\\mathrm{lvl} = %s$' % lvl])\n",
    "\n",
    "ax.set_xlabel('$\\log\\prod_i\\lambda_i$ [arbitraire]')\n",
    "ax.set_ylabel('$\\log(m)$ [$M_\\odot$]')\n",
    "\n",
    "\n",
    "ax.set_xlim(-9, -2)\n",
    "ax.set_ylim(9, 16)\n",
    "plt.subplots_adjust(hspace=0.01, wspace=0.01, right=0.90)\n",
    "cbar_ax = fig.add_axes([0.93, 0.15, 0.03, 0.7])\n",
    "plt.colorbar(img, cax=cbar_ax)\n",
    "#plt.savefig('/home/cadiou/plots/volume__mass__hlvl_hist2d.png')"
   ]
  },
  {
   "cell_type": "code",
   "execution_count": null,
   "metadata": {
    "collapsed": false
   },
   "outputs": [],
   "source": [
    "plt.figure()\n",
    "\n",
    "counts, xe, ye, img = plt.hist2d(np.log10(inertia_data.eval('l0*l1*l2')), inertia_data['log(mass)'], bins=128, norm=LogNorm(), cmap='viridis')\n",
    "CS = plt.contour(xe[:-1], ye[:-1], counts.T, cmap='Greys', norm=LogNorm())\n",
    "plt.clabel(CS, inline=1, fontsize=14)\n",
    "\n",
    "plt.xlabel(r'$\\prod_i\\lambda_i$')\n",
    "plt.ylabel(r'$\\log\\ m$ [$M_\\odot$]')\n",
    "cb = plt.colorbar(img)\n",
    "cb.set_label('Number of halo')\n",
    "\n",
    "plt.savefig('/home/cadiou/plots/lambda_i__mass__distribution.png')"
   ]
  },
  {
   "cell_type": "code",
   "execution_count": null,
   "metadata": {
    "collapsed": false
   },
   "outputs": [],
   "source": [
    "counts.shape"
   ]
  },
  {
   "cell_type": "code",
   "execution_count": null,
   "metadata": {
    "collapsed": false
   },
   "outputs": [],
   "source": [
    "%%cython\n",
    "from cython.parallel import prange\n",
    "cimport numpy as np\n",
    "import numpy as np\n",
    "\n",
    "def my_periodic_filter(np.ndarray[double, ndim=1] center, double l, dataset):\n",
    "    cdef int i \n",
    "    cdef np.ndarray[double, ndim=1] p\n",
    "    cdef np.ndarray mask\n",
    "    assert(0 < l < 1)\n",
    "    mask = np.ones(dataset.points.shape[0], dtype=np.bool)\n",
    "    for i in range(3):\n",
    "        p = dataset.points[:, i]\n",
    "        if 0 < center[i] + l < 1. :\n",
    "            mask *= (center[i] - l <= p     ) * (p <= center[i] + l     )\n",
    "        elif center[i] + l >= 1.:\n",
    "            mask *= (p <= center[i] + l - 1.) + (p >= center[i] - l     )\n",
    "        elif center[i] - l <= 0:\n",
    "            mask *= (p <= center[i] + l     ) + (p >= center[i] - l + 1.)\n",
    "    return mask\n",
    "\n",
    "def id_filter_generator(members_set):\n",
    "    def in_fun(pt):\n",
    "        return pt in members_set\n",
    "\n",
    "    vin_fun = np.vectorize(in_fun)\n",
    "    def my_id_filter(dset):\n",
    "        if len(dset['id']) == 0:\n",
    "            return [False]\n",
    "        else:\n",
    "            return vin_fun(dset['id'])\n",
    "\n",
    "    return my_id_filter"
   ]
  },
  {
   "cell_type": "code",
   "execution_count": null,
   "metadata": {
    "collapsed": false
   },
   "outputs": [],
   "source": [
    "randint = np.random.randint(len(tmp2.index))\n",
    "tmp2.loc[tmp2.index[randint]:tmp2.index[randint]]"
   ]
  },
  {
   "cell_type": "code",
   "execution_count": null,
   "metadata": {
    "collapsed": false,
    "scrolled": true
   },
   "outputs": [],
   "source": [
    "ro = pymses.RamsesOutput('/data52/Horizon-AGN/OUTPUT_DIR/', 2, verbose=False)\n",
    "parts = ro.particle_source([\"pos\", \"mass\", \"id\"])\n",
    "ro.verbose = False"
   ]
  },
  {
   "cell_type": "code",
   "execution_count": null,
   "metadata": {
    "collapsed": false
   },
   "outputs": [],
   "source": [
    "id = 93717\n",
    "inertia_data.loc[id:id]"
   ]
  },
  {
   "cell_type": "code",
   "execution_count": null,
   "metadata": {
    "collapsed": false
   },
   "outputs": [],
   "source": [
    "members = halo_members[id-1]['members']\n",
    "halo_points = pd.DataFrame({'mass': [], 'x': [], 'y':[], 'z': []})\n",
    "\n",
    "# create a sphere filter and an id filter\n",
    "my_id_filter     = id_filter_generator(set(members))\n",
    "\n",
    "def get_spheres(center, lin, lout):  \n",
    "    sps = []\n",
    "    def append(center, lin, lout):\n",
    "        if lin == 0:\n",
    "            sps.append(pymses.utils.regions.Sphere(center, lout))\n",
    "        else:\n",
    "            sps.append(pymses.utils.regions.SphericalShell(center, lin, lout))\n",
    "\n",
    "    for i in range(3):\n",
    "        if (center[i] - lout < 0):\n",
    "            tmp = np.copy(center)\n",
    "            tmp[i] += 1\n",
    "            append(tmp, lin, lout)\n",
    "        if (center[i] + lout > 1.):\n",
    "            tmp = np.copy(center)\n",
    "            tmp[i] -= 1\n",
    "            append(tmp, lin, lout)\n",
    "                \n",
    "    append(center, lin, lout)\n",
    "    return sps\n",
    "\n",
    "lin = lout = 0\n",
    "step = inertia_data.loc[id, 'l2']\n",
    "counter = 0\n",
    "while halo_points['x'].size < len(members):\n",
    "    counter += 1\n",
    "    lin  = lout\n",
    "    lout = lout + step\n",
    "    print('r < %s'% lout)\n",
    "\n",
    "    sps = get_spheres(np.array(inertia_data.loc[id, ['x', 'y', 'z']]), lin, lout)\n",
    "    #id_src     = pymses.filters.PointFunctionFilter(my_id_filter, parts)\n",
    "    id_src     = pymses.filters.PointIdFilter(members, parts)\n",
    "    sources    = [pymses.filters.RegionFilter(sp, id_src) for sp in sps]\n",
    "\n",
    "    for src in tqdm(sources):\n",
    "        dset = src.flatten()\n",
    "        halo_points = halo_points.append(pd.DataFrame({\n",
    "                    'id': dset['id'],\n",
    "                    'mass': dset['mass'],\n",
    "                    'x': dset.points[:, 0],\n",
    "                    'y': dset.points[:, 1],\n",
    "                    'z': dset.points[:, 2]}))\n",
    "    print('Found {}/{} particles'.format(halo_points['id'].size, len(members)))"
   ]
  },
  {
   "cell_type": "code",
   "execution_count": null,
   "metadata": {
    "collapsed": false,
    "scrolled": true
   },
   "outputs": [],
   "source": [
    "# Correct positions\n",
    "xyz = ['x', 'y', 'z']\n",
    "maxmin = halo_points[xyz].max() - halo_points[xyz].min()\n",
    "for i in range(3):\n",
    "    col = xyz[i]\n",
    "    if maxmin[i] > 0.5:\n",
    "        halo_points[col][halo_points[col] > 0.5] = halo_points[col] - 1."
   ]
  },
  {
   "cell_type": "code",
   "execution_count": null,
   "metadata": {
    "collapsed": false
   },
   "outputs": [],
   "source": [
    "fig = plt.figure()\n",
    "ax = fig.add_subplot(111, projection='3d')\n",
    "to_Mpc = ro.info['unit_length'].express(C.Mpc)\n",
    "ax.scatter3D(halo_points.x*to_Mpc, halo_points.y*to_Mpc, halo_points.z*to_Mpc)\n",
    "ax.set_xlabel('x [Mpc]')\n",
    "ax.set_ylabel('y [Mpc]')\n",
    "ax.set_zlabel('z [Mpc]')\n",
    "title = ('Halo %s @ $z=%s$' % (id, np.round(1./ro.info['aexp'] - 1, 1)) +\n",
    "         '  $\\lambda_2\\lambda_1\\lambda_0 = %s$, $\\log\\ m = %s$' % (np.round(np.log10(inertia_data.eval('l0*l1*l2')).loc[id], 1), np.round(inertia_data.loc[id, 'log(mass)'], 1)))\n",
    "ax.set_title(title)\n",
    "_ = plt.savefig('/home/cadiou/plots/halo_%s_z=17.pdf' % id)"
   ]
  },
  {
   "cell_type": "code",
   "execution_count": null,
   "metadata": {
    "collapsed": false
   },
   "outputs": [],
   "source": [
    "fig = plt.figure()\n",
    "ax = fig.add_subplot(111, projection='3d')\n",
    "ax.scatter3D(halo_points.x, halo_points.y, halo_points.z)\n",
    "ax.set_xlabel('x')\n",
    "ax.set_ylabel('y')\n",
    "ax.set_zlabel('z')\n",
    "title = ('Halo %s @ $z=%s$' % (id, np.round(1./ro.info['aexp'] - 1, 1)) +\n",
    "         '  $\\lambda_2\\lambda_1\\lambda_0 = %s$, $\\log\\ m = %s$' % (np.round(np.log10(inertia_data.eval('l0*l1*l2')).loc[id], 1), np.round(inertia_data.loc[id, 'log(mass)'], 1)))\n",
    "ax.set_title(title)\n",
    "_ = plt.savefig('/home/cadiou/plots/halo_%s_z=17_no_unit.pdf' % id)"
   ]
  }
 ],
 "metadata": {
  "kernelspec": {
   "display_name": "Python 2",
   "language": "python",
   "name": "python2"
  },
  "language_info": {
   "codemirror_mode": {
    "name": "ipython",
    "version": 2
   },
   "file_extension": ".py",
   "mimetype": "text/x-python",
   "name": "python",
   "nbconvert_exporter": "python",
   "pygments_lexer": "ipython2",
   "version": "2.7.11"
  },
  "toc": {
   "toc_cell": true,
   "toc_number_sections": true,
   "toc_section_display": "none",
   "toc_threshold": 6,
   "toc_window_display": true
  },
  "toc_position": {
   "height": "264px",
   "left": "1448.62px",
   "right": "5.38333px",
   "top": "62.5333px",
   "width": "422px"
  }
 },
 "nbformat": 4,
 "nbformat_minor": 0
}
