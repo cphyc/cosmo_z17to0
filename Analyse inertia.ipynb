version https://git-lfs.github.com/spec/v1
oid sha256:0395449f68ddb5cd4867695db250c83bb5fecc98688f8992c414ff63dd367eef
size 2859764
