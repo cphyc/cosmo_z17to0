version https://git-lfs.github.com/spec/v1
oid sha256:d5524a1f2039895935d7c62a6dcb58a4197dece803605e7bf4558f5494e43daa
size 3070476
