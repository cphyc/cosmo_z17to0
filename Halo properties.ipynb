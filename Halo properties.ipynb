version https://git-lfs.github.com/spec/v1
oid sha256:6f72fb1b91893ab3ded17a208042c777209b809535d1597db5613f9e8101f6fd
size 43033
